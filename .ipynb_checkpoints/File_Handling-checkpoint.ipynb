{
 "cells": [
  {
   "cell_type": "code",
   "execution_count": 57,
   "id": "9fd6f3c2",
   "metadata": {},
   "outputs": [
    {
     "name": "stdout",
     "output_type": "stream",
     "text": [
      "31\n",
      "this is amit kumar.All is well.\n",
      "31\n"
     ]
    }
   ],
   "source": [
    "f=open('first_file','w+')\n",
    "f.write(\"this is amit kumar.All is well.\")\n",
    "print(f.tell())\n",
    "f.seek(0)\n",
    "#f=open('first_file','r')\n",
    "print(f.read())\n",
    "print(f.tell())\n",
    "f.seek(0)\n",
    "f.close()\n"
   ]
  },
  {
   "cell_type": "code",
   "execution_count": null,
   "id": "64d61570",
   "metadata": {},
   "outputs": [],
   "source": []
  }
 ],
 "metadata": {
  "kernelspec": {
   "display_name": "Python 3 (ipykernel)",
   "language": "python",
   "name": "python3"
  },
  "language_info": {
   "codemirror_mode": {
    "name": "ipython",
    "version": 3
   },
   "file_extension": ".py",
   "mimetype": "text/x-python",
   "name": "python",
   "nbconvert_exporter": "python",
   "pygments_lexer": "ipython3",
   "version": "3.10.9"
  }
 },
 "nbformat": 4,
 "nbformat_minor": 5
}
