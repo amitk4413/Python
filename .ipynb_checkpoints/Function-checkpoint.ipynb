{
 "cells": [
  {
   "cell_type": "code",
   "execution_count": 6,
   "id": "590b4cd8",
   "metadata": {},
   "outputs": [
    {
     "name": "stdout",
     "output_type": "stream",
     "text": [
      "enter the number to get the factorial :-6\n",
      "720\n",
      "1000\n"
     ]
    }
   ],
   "source": [
    "#recursive function :- Need to have return type\n",
    "num=int(input('enter the number to get the factorial :-'))\n",
    "def fact(num):\n",
    "    if num==0:\n",
    "        return 1\n",
    "    else:\n",
    "        return (num*fact(num-1))\n",
    "print(fact(num))\n",
    "a=280\n",
    "a+=fact(num)\n",
    "print(a)"
   ]
  },
  {
   "cell_type": "code",
   "execution_count": 14,
   "id": "12f2d51f",
   "metadata": {},
   "outputs": [
    {
     "name": "stdout",
     "output_type": "stream",
     "text": [
      "60\n"
     ]
    }
   ],
   "source": [
    "#Lambda  function :- also called as anonymous function. It can take any number of arguments but have only one expression.\n",
    "#syntax :- (lambda <arguments>)(expression)\n",
    "a=10\n",
    "b=20\n",
    "c=30\n",
    "x=lambda a,b,c:a+b+c\n",
    "print(x(a,b,c))"
   ]
  },
  {
   "cell_type": "code",
   "execution_count": 57,
   "id": "bdaabadf",
   "metadata": {},
   "outputs": [
    {
     "name": "stdout",
     "output_type": "stream",
     "text": [
      "Even\n"
     ]
    }
   ],
   "source": [
    "#print if number is even or odd\n",
    "\n",
    "y = lambda x : \"Even\" if(x%2==0) else \"Odd\"\n",
    "print(y(10))"
   ]
  },
  {
   "cell_type": "code",
   "execution_count": 70,
   "id": "e792974f",
   "metadata": {},
   "outputs": [
    {
     "name": "stdout",
     "output_type": "stream",
     "text": [
      "0\n",
      "2\n",
      "4\n",
      "6\n",
      "8\n"
     ]
    }
   ],
   "source": [
    "#print even number below given number \n",
    "\n",
    "y = [lambda arg=x : arg for x in range(0,10) if(x%2==0)]\n",
    "for i in y:\n",
    "    print(i())"
   ]
  },
  {
   "cell_type": "code",
   "execution_count": 66,
   "id": "bd4fde7c",
   "metadata": {},
   "outputs": [
    {
     "name": "stdout",
     "output_type": "stream",
     "text": [
      "10\n",
      "20\n",
      "30\n",
      "40\n"
     ]
    }
   ],
   "source": [
    "is_even_list = [lambda arg=x: arg * 10 for x in range(1, 5)]\n",
    "\n",
    "for item in is_even_list:\n",
    "    print(item())"
   ]
  },
  {
   "cell_type": "code",
   "execution_count": 72,
   "id": "72d9f060",
   "metadata": {},
   "outputs": [
    {
     "data": {
      "text/plain": [
       "[1, 4, 27]"
      ]
     },
     "execution_count": 72,
     "metadata": {},
     "output_type": "execute_result"
    }
   ],
   "source": [
    "list(map(lambda x:x**x,[1,2,3]))"
   ]
  },
  {
   "cell_type": "code",
   "execution_count": 85,
   "id": "47e31c6a",
   "metadata": {},
   "outputs": [
    {
     "data": {
      "text/plain": [
       "3"
      ]
     },
     "execution_count": 85,
     "metadata": {},
     "output_type": "execute_result"
    }
   ],
   "source": [
    "from functools import reduce\n",
    "reduce(lambda x,y:x if(x>y) else y ,[1,2,3])\n"
   ]
  },
  {
   "cell_type": "code",
   "execution_count": 86,
   "id": "01ebdaa4",
   "metadata": {},
   "outputs": [
    {
     "data": {
      "text/plain": [
       "[2]"
      ]
     },
     "execution_count": 86,
     "metadata": {},
     "output_type": "execute_result"
    }
   ],
   "source": [
    "\n",
    "list(filter(lambda x:True if(x%2==0) else False ,[1,2,3]))\n"
   ]
  },
  {
   "cell_type": "code",
   "execution_count": 87,
   "id": "d82923d5",
   "metadata": {},
   "outputs": [
    {
     "name": "stdout",
     "output_type": "stream",
     "text": [
      "28\n"
     ]
    }
   ],
   "source": [
    "import sys\n",
    "a=200\n",
    "print(sys.getsizeof(a))"
   ]
  },
  {
   "cell_type": "code",
   "execution_count": 89,
   "id": "00c7ca18",
   "metadata": {},
   "outputs": [
    {
     "name": "stdout",
     "output_type": "stream",
     "text": [
      "['In', 'Max', 'Out', '_', '_10', '_3', '_7', '_71', '_72', '_77', '_78', '_79', '_8', '_85', '_86', '__', '___', '__builtin__', '__builtins__', '__doc__', '__loader__', '__name__', '__package__', '__spec__', '_dh', '_i', '_i1', '_i10', '_i11', '_i12', '_i13', '_i14', '_i15', '_i16', '_i17', '_i18', '_i19', '_i2', '_i20', '_i21', '_i22', '_i23', '_i24', '_i25', '_i26', '_i27', '_i28', '_i29', '_i3', '_i30', '_i31', '_i32', '_i33', '_i34', '_i35', '_i36', '_i37', '_i38', '_i39', '_i4', '_i40', '_i41', '_i42', '_i43', '_i44', '_i45', '_i46', '_i47', '_i48', '_i49', '_i5', '_i50', '_i51', '_i52', '_i53', '_i54', '_i55', '_i56', '_i57', '_i58', '_i59', '_i6', '_i60', '_i61', '_i62', '_i63', '_i64', '_i65', '_i66', '_i67', '_i68', '_i69', '_i7', '_i70', '_i71', '_i72', '_i73', '_i74', '_i75', '_i76', '_i77', '_i78', '_i79', '_i8', '_i80', '_i81', '_i82', '_i83', '_i84', '_i85', '_i86', '_i87', '_i88', '_i89', '_i9', '_ih', '_ii', '_iii', '_oh', 'a', 'b', 'c', 'exit', 'fact', 'fact11', 'get_ipython', 'i', 'is_even_list', 'item', 'num', 'open', 'quit', 'reduce', 'sys', 'x', 'y']\n"
     ]
    }
   ],
   "source": [
    "print(dir())"
   ]
  },
  {
   "cell_type": "code",
   "execution_count": 92,
   "id": "97eb67b8",
   "metadata": {},
   "outputs": [
    {
     "name": "stdout",
     "output_type": "stream",
     "text": [
      "['ArithmeticError', 'AssertionError', 'AttributeError', 'BaseException', 'BlockingIOError', 'BrokenPipeError', 'BufferError', 'BytesWarning', 'ChildProcessError', 'ConnectionAbortedError', 'ConnectionError', 'ConnectionRefusedError', 'ConnectionResetError', 'DeprecationWarning', 'EOFError', 'Ellipsis', 'EncodingWarning', 'EnvironmentError', 'Exception', 'False', 'FileExistsError', 'FileNotFoundError', 'FloatingPointError', 'FutureWarning', 'GeneratorExit', 'IOError', 'ImportError', 'ImportWarning', 'IndentationError', 'IndexError', 'InterruptedError', 'IsADirectoryError', 'KeyError', 'KeyboardInterrupt', 'LookupError', 'MemoryError', 'ModuleNotFoundError', 'NameError', 'None', 'NotADirectoryError', 'NotImplemented', 'NotImplementedError', 'OSError', 'OverflowError', 'PendingDeprecationWarning', 'PermissionError', 'ProcessLookupError', 'RecursionError', 'ReferenceError', 'ResourceWarning', 'RuntimeError', 'RuntimeWarning', 'StopAsyncIteration', 'StopIteration', 'SyntaxError', 'SyntaxWarning', 'SystemError', 'SystemExit', 'TabError', 'TimeoutError', 'True', 'TypeError', 'UnboundLocalError', 'UnicodeDecodeError', 'UnicodeEncodeError', 'UnicodeError', 'UnicodeTranslateError', 'UnicodeWarning', 'UserWarning', 'ValueError', 'Warning', 'WindowsError', 'ZeroDivisionError', '__IPYTHON__', '__build_class__', '__debug__', '__doc__', '__import__', '__loader__', '__name__', '__package__', '__spec__', 'abs', 'aiter', 'all', 'anext', 'any', 'ascii', 'bin', 'bool', 'breakpoint', 'bytearray', 'bytes', 'callable', 'chr', 'classmethod', 'compile', 'complex', 'copyright', 'credits', 'delattr', 'dict', 'dir', 'display', 'divmod', 'enumerate', 'eval', 'exec', 'execfile', 'filter', 'float', 'format', 'frozenset', 'get_ipython', 'getattr', 'globals', 'hasattr', 'hash', 'help', 'hex', 'id', 'input', 'int', 'isinstance', 'issubclass', 'iter', 'len', 'license', 'list', 'locals', 'map', 'max', 'memoryview', 'min', 'next', 'object', 'oct', 'open', 'ord', 'pow', 'print', 'property', 'range', 'repr', 'reversed', 'round', 'runfile', 'set', 'setattr', 'slice', 'sorted', 'staticmethod', 'str', 'sum', 'super', 'tuple', 'type', 'vars', 'zip']\n"
     ]
    }
   ],
   "source": [
    "print(dir(__builtins__))"
   ]
  },
  {
   "cell_type": "markdown",
   "id": "ea68f158",
   "metadata": {},
   "source": [
    "# Docstring\n",
    "\n"
   ]
  },
  {
   "cell_type": "code",
   "execution_count": 1,
   "id": "3c662ea9",
   "metadata": {},
   "outputs": [
    {
     "data": {
      "text/plain": [
       "30"
      ]
     },
     "execution_count": 1,
     "metadata": {},
     "output_type": "execute_result"
    }
   ],
   "source": [
    "def summation(a,b):\n",
    "    \"\"\" this is summation \"\"\"\n",
    "    a=10\n",
    "    b=20\n",
    "    c=a+b\n",
    "    return c\n",
    "\n",
    "summation(30,40)"
   ]
  },
  {
   "cell_type": "markdown",
   "id": "4833a1fe",
   "metadata": {},
   "source": [
    "# *args (it takes input as tuple)\n"
   ]
  },
  {
   "cell_type": "code",
   "execution_count": 10,
   "id": "91084113",
   "metadata": {},
   "outputs": [
    {
     "name": "stdout",
     "output_type": "stream",
     "text": [
      "Value of a = 10\n",
      "Value of b = 20\n",
      "Value of args = (30, 40, 50)\n"
     ]
    },
    {
     "data": {
      "text/plain": [
       "120"
      ]
     },
     "execution_count": 10,
     "metadata": {},
     "output_type": "execute_result"
    }
   ],
   "source": [
    "def fun1(a,b,*args1):\n",
    "    print(\"Value of a =\",a)\n",
    "    print(\"Value of b =\",b)\n",
    "    print(\"Value of args =\",args1)\n",
    "    tot=0\n",
    "    for i in args1:\n",
    "        tot+=i\n",
    "    return tot\n",
    "fun1(10,20,30,40,50)"
   ]
  },
  {
   "cell_type": "markdown",
   "id": "9f766afe",
   "metadata": {},
   "source": [
    "# **args (it takes input as tuple)"
   ]
  },
  {
   "cell_type": "code",
   "execution_count": 16,
   "id": "c2054468",
   "metadata": {},
   "outputs": [
    {
     "name": "stdout",
     "output_type": "stream",
     "text": [
      "Value of a = 10\n",
      "Value of b = 20\n",
      "Value of args = {'first': 'Geeks', 'mid': 'for', 'last': 'Geeks'}\n",
      "key = first , Value = Geeks\n",
      "key = mid , Value = for\n",
      "key = last , Value = Geeks\n"
     ]
    },
    {
     "data": {
      "text/plain": [
       "0"
      ]
     },
     "execution_count": 16,
     "metadata": {},
     "output_type": "execute_result"
    }
   ],
   "source": [
    "def fun1(a,b,**args1):\n",
    "    print(\"Value of a =\",a)\n",
    "    print(\"Value of b =\",b)\n",
    "    print(\"Value of args =\",args1)\n",
    "    tot=0\n",
    "    for i in args1.items():\n",
    "        print(\"key =\",i[0],\", Value =\",i[1])\n",
    "    return tot\n",
    "fun1(10,20,first='Geeks', mid='for', last='Geeks')"
   ]
  },
  {
   "cell_type": "markdown",
   "id": "c1ec3791",
   "metadata": {},
   "source": [
    "# Lambda"
   ]
  },
  {
   "cell_type": "code",
   "execution_count": 7,
   "id": "65046910",
   "metadata": {},
   "outputs": [
    {
     "data": {
      "text/plain": [
       "'Even'"
      ]
     },
     "execution_count": 7,
     "metadata": {},
     "output_type": "execute_result"
    }
   ],
   "source": [
    "cal=lambda a :\"Even\" if a%2==0 else \"Odd\"\n",
    "cal(2)"
   ]
  },
  {
   "cell_type": "code",
   "execution_count": 8,
   "id": "22dcbfa6",
   "metadata": {},
   "outputs": [
    {
     "data": {
      "text/plain": [
       "'Even'"
      ]
     },
     "execution_count": 8,
     "metadata": {},
     "output_type": "execute_result"
    }
   ],
   "source": [
    "(lambda a :\"Even\" if a%2==0 else \"Odd\") (2)"
   ]
  },
  {
   "cell_type": "code",
   "execution_count": 13,
   "id": "4026b827",
   "metadata": {},
   "outputs": [
    {
     "name": "stdout",
     "output_type": "stream",
     "text": [
      "Enter the number to check for even or odd = 10\n"
     ]
    },
    {
     "data": {
      "text/plain": [
       "'Even'"
      ]
     },
     "execution_count": 13,
     "metadata": {},
     "output_type": "execute_result"
    }
   ],
   "source": [
    "(lambda a :\"Even\" if a%2==0 else \"Odd\") (int(input(\"Enter the number to check for even or odd = \")))"
   ]
  },
  {
   "cell_type": "markdown",
   "id": "c5841e6a",
   "metadata": {},
   "source": [
    "# Map"
   ]
  },
  {
   "cell_type": "code",
   "execution_count": 21,
   "id": "f78c9ddf",
   "metadata": {},
   "outputs": [
    {
     "data": {
      "text/plain": [
       "['Odd', 'Even', 'Odd', 'Even', 'Odd']"
      ]
     },
     "execution_count": 21,
     "metadata": {},
     "output_type": "execute_result"
    }
   ],
   "source": [
    "list(map(lambda a:\"Even\" if a%2==0 else \"Odd\",[1,2,3,4,5]))"
   ]
  },
  {
   "cell_type": "markdown",
   "id": "3f8ad7a1",
   "metadata": {},
   "source": [
    "# Reduce"
   ]
  },
  {
   "cell_type": "code",
   "execution_count": 34,
   "id": "6c3aad35",
   "metadata": {},
   "outputs": [
    {
     "data": {
      "text/plain": [
       "6"
      ]
     },
     "execution_count": 34,
     "metadata": {},
     "output_type": "execute_result"
    }
   ],
   "source": [
    "from functools import reduce\n",
    "\n",
    "reduce(lambda x,y:x if x>y else y,[1,2,3])\n",
    "\n",
    "reduce(lambda x,y:x+y,[1,2,3])"
   ]
  },
  {
   "cell_type": "markdown",
   "id": "22ae107b",
   "metadata": {},
   "source": [
    "# Filter"
   ]
  },
  {
   "cell_type": "code",
   "execution_count": 37,
   "id": "c88cdf15",
   "metadata": {},
   "outputs": [
    {
     "data": {
      "text/plain": [
       "[2, 4]"
      ]
     },
     "execution_count": 37,
     "metadata": {},
     "output_type": "execute_result"
    }
   ],
   "source": [
    "def even_odd(num):\n",
    "    if num%2==0:\n",
    "        return True\n",
    "    else:\n",
    "        return False\n",
    "a=[1,2,3,4,5]\n",
    "list(filter(even_odd,a))"
   ]
  },
  {
   "cell_type": "markdown",
   "id": "913ce0a5",
   "metadata": {},
   "source": [
    "# Decorator Function\n",
    "\n",
    "### Some are built in decoratoes :- @classmethod , @staticmethod ,  @property , @abstractmethod"
   ]
  },
  {
   "cell_type": "code",
   "execution_count": 9,
   "id": "1223b64f",
   "metadata": {},
   "outputs": [
    {
     "name": "stdout",
     "output_type": "stream",
     "text": [
      "15\n"
     ]
    }
   ],
   "source": [
    "# Without Decorator\n",
    "\n",
    "def sample():\n",
    "    return 10\n",
    "\n",
    "def decor(fun):\n",
    "    def inner1():\n",
    "        a=fun()\n",
    "        add1=a+5\n",
    "        return add1\n",
    "    return inner1\n",
    "\n",
    "decor1=decor(sample)\n",
    "print(decor1())\n",
    "\n",
    "    "
   ]
  },
  {
   "cell_type": "markdown",
   "id": "90d4597e",
   "metadata": {},
   "source": [
    "### same above thing can be done using decorator.\n",
    "note :- Use same function name everywhere for which you are creating the decortaor. For e.g. in place of fun write sample as a best practice."
   ]
  },
  {
   "cell_type": "code",
   "execution_count": 2,
   "id": "d6763348",
   "metadata": {},
   "outputs": [
    {
     "name": "stdout",
     "output_type": "stream",
     "text": [
      "15\n"
     ]
    }
   ],
   "source": [
    "# With Decorator\n",
    "\n",
    "@decor\n",
    "def sample():\n",
    "    return 10\n",
    "\n",
    "def decor(fun):\n",
    "    def inner1(): # inner1 is a Wrapper function in which the argument is called+\n",
    "        a=fun()\n",
    "        add1=a+5\n",
    "        return add1\n",
    "    return inner1\n",
    "\n",
    "print(sample())  # just call the function whose propertis are modified or decorated\n",
    "\n",
    "    "
   ]
  },
  {
   "cell_type": "code",
   "execution_count": 3,
   "id": "08ef585f",
   "metadata": {},
   "outputs": [
    {
     "name": "stdout",
     "output_type": "stream",
     "text": [
      "15\n"
     ]
    }
   ],
   "source": [
    "# With Decorator => best practice to put decorator fuction above the function getting decorated\n",
    "\n",
    "def decor(sample):\n",
    "    def inner1():  # inner1 is a Wrapper function in which the argument is called\n",
    "        a=sample()\n",
    "        add1=a+5\n",
    "        return add1\n",
    "    return inner1\n",
    "\n",
    "@decor\n",
    "def sample():\n",
    "    return 10\n",
    "\n",
    "print(sample())  # just call the function whose propertis are modified or decorated\n",
    "\n",
    "    "
   ]
  },
  {
   "cell_type": "code",
   "execution_count": 12,
   "id": "d024288c",
   "metadata": {},
   "outputs": [
    {
     "name": "stdout",
     "output_type": "stream",
     "text": [
      "75\n"
     ]
    }
   ],
   "source": [
    "# With multiple Decorator => use case :- we have to first add then multiply 5\n",
    "\n",
    "def decor1(sample):\n",
    "    def inner1():  # inner1 is a Wrapper function in which the argument is called\n",
    "        a=sample()\n",
    "        add1=a*5\n",
    "        return add1\n",
    "    return inner1\n",
    "\n",
    "def decor2(sample):\n",
    "    def inner2():  # inner1 is a Wrapper function in which the argument is called\n",
    "        a=sample()\n",
    "        add2=a+5\n",
    "        return add2\n",
    "    return inner2\n",
    "\n",
    "@decor1\n",
    "@decor2\n",
    "def sample():\n",
    "    return 10\n",
    "\n",
    "print(sample())  # just call the function whose propertis are modified or decorated\n",
    "\n",
    "    "
   ]
  },
  {
   "cell_type": "code",
   "execution_count": 7,
   "id": "f24fa28b",
   "metadata": {},
   "outputs": [
    {
     "name": "stdout",
     "output_type": "stream",
     "text": [
      "75\n"
     ]
    }
   ],
   "source": [
    "# same above case without decorator\n",
    "\n",
    "def decor1(sample):\n",
    "    def inner1():  # inner1 is a Wrapper function in which the argument is called\n",
    "        a=sample()\n",
    "        add1=a*5\n",
    "        return add1\n",
    "    return inner1\n",
    "\n",
    "def decor2(sample):\n",
    "    def inner2():  # inner1 is a Wrapper function in which the argument is called\n",
    "        a=sample()\n",
    "        add2=a+5\n",
    "        return add2\n",
    "    return inner2\n",
    "\n",
    "def sample():\n",
    "    return 10\n",
    "\n",
    "deco_call=decor1(decor2(sample))\n",
    "print(deco_call())"
   ]
  },
  {
   "cell_type": "code",
   "execution_count": null,
   "id": "80789e64",
   "metadata": {},
   "outputs": [],
   "source": []
  }
 ],
 "metadata": {
  "kernelspec": {
   "display_name": "Python 3 (ipykernel)",
   "language": "python",
   "name": "python3"
  },
  "language_info": {
   "codemirror_mode": {
    "name": "ipython",
    "version": 3
   },
   "file_extension": ".py",
   "mimetype": "text/x-python",
   "name": "python",
   "nbconvert_exporter": "python",
   "pygments_lexer": "ipython3",
   "version": "3.10.9"
  }
 },
 "nbformat": 4,
 "nbformat_minor": 5
}
