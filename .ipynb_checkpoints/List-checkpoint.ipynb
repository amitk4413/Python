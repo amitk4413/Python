{
 "cells": [
  {
   "cell_type": "code",
   "execution_count": 5,
   "id": "f4595f00",
   "metadata": {},
   "outputs": [
    {
     "data": {
      "text/plain": [
       "'Amit'"
      ]
     },
     "execution_count": 5,
     "metadata": {},
     "output_type": "execute_result"
    }
   ],
   "source": [
    "#Nested List\n",
    "\n",
    "a=[1,2,3,['Amit','Kumar'],'banaba',[1,2,3]]\n",
    "a[3][0]"
   ]
  },
  {
   "cell_type": "code",
   "execution_count": 13,
   "id": "09154ad0",
   "metadata": {},
   "outputs": [
    {
     "name": "stdout",
     "output_type": "stream",
     "text": [
      "[1, [1, 2], 2, 3, 4]\n"
     ]
    }
   ],
   "source": [
    "#insert => insert the digit at abn index and shift other numbers to right side\n",
    "\n",
    "a=[1,2,3,4]\n",
    "a.insert(1,[1,2])\n",
    "print(a)"
   ]
  },
  {
   "cell_type": "code",
   "execution_count": 12,
   "id": "a932e098",
   "metadata": {},
   "outputs": [
    {
     "name": "stdout",
     "output_type": "stream",
     "text": [
      "[12, 3, 1]\n"
     ]
    }
   ],
   "source": [
    "#append works with any object but extend works only with iterable object\n",
    "\n",
    "a=[12,3]\n",
    "b=1\n",
    "a.append(b)\n",
    "print(a)"
   ]
  },
  {
   "cell_type": "code",
   "execution_count": 15,
   "id": "65224750",
   "metadata": {},
   "outputs": [
    {
     "data": {
      "text/plain": [
       "3"
      ]
     },
     "execution_count": 15,
     "metadata": {},
     "output_type": "execute_result"
    }
   ],
   "source": [
    "#pop removes the value based on index.By default , last value is removed.\n",
    "#Pop returns the integer popped out. It is th only method which returns value.\n",
    "\n",
    "a=[1,2,3,'Amit',5,6]\n",
    "a.pop()\n",
    "a.pop(2)\n"
   ]
  },
  {
   "cell_type": "code",
   "execution_count": 17,
   "id": "54af8d54",
   "metadata": {},
   "outputs": [],
   "source": [
    "#pop removes the value based on value.Removes only first occurence.we need to pass one argument\n",
    "\n",
    "a=[1,2,3,'Amit',5,6]\n",
    "a.remove(5)\n"
   ]
  },
  {
   "cell_type": "code",
   "execution_count": 21,
   "id": "1a57ff70",
   "metadata": {},
   "outputs": [
    {
     "ename": "AttributeError",
     "evalue": "'list' object has no attribute 'find'",
     "output_type": "error",
     "traceback": [
      "\u001b[1;31m---------------------------------------------------------------------------\u001b[0m",
      "\u001b[1;31mAttributeError\u001b[0m                            Traceback (most recent call last)",
      "Cell \u001b[1;32mIn[21], line 3\u001b[0m\n\u001b[0;32m      1\u001b[0m a\u001b[38;5;241m=\u001b[39m[\u001b[38;5;124m'\u001b[39m\u001b[38;5;124mamit\u001b[39m\u001b[38;5;124m'\u001b[39m,\u001b[38;5;124m'\u001b[39m\u001b[38;5;124mamit\u001b[39m\u001b[38;5;124m'\u001b[39m,\u001b[38;5;124m'\u001b[39m\u001b[38;5;124mamit\u001b[39m\u001b[38;5;124m'\u001b[39m,\u001b[38;5;124m'\u001b[39m\u001b[38;5;124mapple\u001b[39m\u001b[38;5;124m'\u001b[39m]\n\u001b[0;32m      2\u001b[0m a\u001b[38;5;241m.\u001b[39mcount(\u001b[38;5;124m'\u001b[39m\u001b[38;5;124mamit\u001b[39m\u001b[38;5;124m'\u001b[39m)\n\u001b[1;32m----> 3\u001b[0m \u001b[43ma\u001b[49m\u001b[38;5;241;43m.\u001b[39;49m\u001b[43mfind\u001b[49m(\u001b[38;5;124m'\u001b[39m\u001b[38;5;124mamit\u001b[39m\u001b[38;5;124m'\u001b[39m)\n",
      "\u001b[1;31mAttributeError\u001b[0m: 'list' object has no attribute 'find'"
     ]
    }
   ],
   "source": [
    "#count\n",
    "\n",
    "a=['amit','amit','amit','apple']\n",
    "a.count('amit')\n",
    "a.find('amit')"
   ]
  },
  {
   "cell_type": "code",
   "execution_count": 24,
   "id": "9ea81419",
   "metadata": {},
   "outputs": [
    {
     "data": {
      "text/plain": [
       "3"
      ]
     },
     "execution_count": 24,
     "metadata": {},
     "output_type": "execute_result"
    }
   ],
   "source": [
    "#index ...list does not have find\n",
    "\n",
    "a=['amit','amit','amit','apple']\n",
    "a.index('apple',2)"
   ]
  },
  {
   "cell_type": "code",
   "execution_count": 34,
   "id": "1f92250a",
   "metadata": {},
   "outputs": [
    {
     "name": "stdout",
     "output_type": "stream",
     "text": [
      "[1, 2, 3]\n"
     ]
    }
   ],
   "source": [
    "#sort #default ascending\n",
    "a=[1,2,3]\n",
    "a.sort()\n",
    "print(a)"
   ]
  },
  {
   "cell_type": "code",
   "execution_count": 35,
   "id": "ad7a0ff6",
   "metadata": {},
   "outputs": [
    {
     "name": "stdout",
     "output_type": "stream",
     "text": [
      "[3, 2, 1]\n"
     ]
    }
   ],
   "source": [
    "#sort-descending\n",
    "a=[1,2,3]\n",
    "a.sort(reverse=True)\n",
    "print(a)"
   ]
  },
  {
   "cell_type": "code",
   "execution_count": 36,
   "id": "9642e455",
   "metadata": {},
   "outputs": [
    {
     "name": "stdout",
     "output_type": "stream",
     "text": [
      "[]\n"
     ]
    }
   ],
   "source": [
    "#clear\n",
    "a=[1,2,3]\n",
    "a.clear()\n",
    "print(a)"
   ]
  },
  {
   "cell_type": "code",
   "execution_count": 8,
   "id": "c405670f",
   "metadata": {},
   "outputs": [
    {
     "name": "stdout",
     "output_type": "stream",
     "text": [
      "[1, 2, 3, 4]\n",
      "[1, 2, 3, 4]\n",
      "[1, 2, 3, 4, 'AMit']\n",
      "[1, 2, 3, 4, 'AMit']\n",
      "[1, 2, 3, 4, 'AMit', 'Apple']\n",
      "[1, 2, 3, 4, 'AMit', 'Apple']\n",
      "[1, 2, 3, 4, 'AMit']\n",
      "[1, 2, 3, 4, 'AMit', 'Apple', ['a', 'b', 'c']]\n",
      "[1, 2, 3, 4, 'AMit', 'Apple', ['a', 'b', 'c']]\n",
      "[1, 2, 3, 4, 'AMit', 'Apple', ['a', 'b', 'c']]\n",
      "[1, 2, 3, 4, 'AMit', 'Apple', ['a', 'b', 'c', 100]]\n",
      "[1, 2, 3, 4, 'AMit', 'Apple', ['a', 'b', 'c', 100]]\n",
      "[1, 2, 3, 4, 'AMit', 'Apple', ['a', 'b', 'c', 100]]\n"
     ]
    }
   ],
   "source": [
    "#shallow copy\n",
    "\n",
    "a=[1,2,3,4]\n",
    "b=a\n",
    "print(a)\n",
    "print(b)\n",
    "a.append('AMit')\n",
    "print(a)\n",
    "print(b)\n",
    "\n",
    "z=a.copy()\n",
    "a.append('Apple')\n",
    "print(a)\n",
    "print(b)\n",
    "print(z)\n",
    "\n",
    "#Issue with shallow copy is that whenever there is nested list , it again gets manipulates as soon as parent list is changed\n",
    "a.append(['a','b','c'])\n",
    "z=a.copy()\n",
    "\n",
    "print(a)\n",
    "print(b)\n",
    "print(z)\n",
    "a[-1].append(100)\n",
    "print(a)\n",
    "print(b)\n",
    "print(z)"
   ]
  },
  {
   "cell_type": "code",
   "execution_count": 13,
   "id": "a7c4605b",
   "metadata": {},
   "outputs": [
    {
     "name": "stdout",
     "output_type": "stream",
     "text": [
      "[1, 2, 3, 4, [100, 200]]\n",
      "[1, 2, 3, 4, [100, 200]]\n",
      "[1, 2, 3, 4, [100, 200, 'AMit']]\n",
      "[1, 2, 3, 4, [100, 200]]\n"
     ]
    }
   ],
   "source": [
    "#deep copy\n",
    "from copy import deepcopy\n",
    "a=[1,2,3,4,[100,200]]\n",
    "b=deepcopy(a)\n",
    "print(a)\n",
    "print(b)\n",
    "a[-1].append('AMit')\n",
    "print(a)\n",
    "print(b)"
   ]
  },
  {
   "cell_type": "code",
   "execution_count": 21,
   "id": "7b5628b1",
   "metadata": {},
   "outputs": [
    {
     "name": "stdout",
     "output_type": "stream",
     "text": [
      "[30, 50]\n",
      "[10000000000, 20, 30, 40, 50]\n"
     ]
    }
   ],
   "source": [
    "#list comprehension \n",
    "\n",
    "a=[10,20,30,40,50]\n",
    "print(list(i for i in a[::2] if i>10))\n",
    "\n",
    "\n",
    "#for multiple if-else\n",
    "a=[10,20,30,40,50]\n",
    "print(list(i if i>10 else i**i  for i in a[::]))"
   ]
  },
  {
   "cell_type": "code",
   "execution_count": 24,
   "id": "46c89198",
   "metadata": {},
   "outputs": [
    {
     "name": "stdout",
     "output_type": "stream",
     "text": [
      "******\n",
      "*****\n",
      "****\n",
      "***\n",
      "**\n",
      "*\n"
     ]
    }
   ],
   "source": [
    "i=6\n",
    "while i > 0:\n",
    "    print('*'*i)\n",
    "    i-=1"
   ]
  },
  {
   "cell_type": "code",
   "execution_count": 37,
   "id": "e431d0e4",
   "metadata": {},
   "outputs": [
    {
     "name": "stdout",
     "output_type": "stream",
     "text": [
      "['an', 'otp', '5454', 'is', 'shared', 'on', 'mobile.']\n",
      "OTP is :-  5454\n"
     ]
    }
   ],
   "source": [
    "# Find the OTP\n",
    "message = \"an otp 5454 is shared on mobile. \"\n",
    "a=message.split()\n",
    "i=0\n",
    "print(a)\n",
    "while i< len(a):\n",
    "    if a[i].isnumeric()==True:\n",
    "        print(\"OTP is :- \",a[i])\n",
    "        break\n",
    "    else:\n",
    "        pass\n",
    "    i+=1\n",
    "        \n",
    "      "
   ]
  },
  {
   "cell_type": "code",
   "execution_count": 38,
   "id": "9cf70183",
   "metadata": {},
   "outputs": [
    {
     "name": "stdout",
     "output_type": "stream",
     "text": [
      "Position : 0, Value : 10\n",
      "Position : 1, Value : 25\n",
      "Position : 2, Value : 47\n",
      "Its Negative\n"
     ]
    }
   ],
   "source": [
    "# Display all the positive values and stop if any negative values comes up\n",
    "listName = [10, 25, 47, -54 , 23 , -11, 70]\n",
    "i=0\n",
    "while i < len(listName): \n",
    "    if listName[i] < 0 : \n",
    "        print(\"Its Negative\")\n",
    "        break\n",
    "        print(\".............. ENDING.........\")\n",
    "    else : \n",
    "        print(f\"Position : {i}, Value : {listName[i]}\")\n",
    "    i+=1"
   ]
  },
  {
   "cell_type": "code",
   "execution_count": null,
   "id": "64c3da33",
   "metadata": {},
   "outputs": [],
   "source": []
  }
 ],
 "metadata": {
  "kernelspec": {
   "display_name": "Python 3 (ipykernel)",
   "language": "python",
   "name": "python3"
  },
  "language_info": {
   "codemirror_mode": {
    "name": "ipython",
    "version": 3
   },
   "file_extension": ".py",
   "mimetype": "text/x-python",
   "name": "python",
   "nbconvert_exporter": "python",
   "pygments_lexer": "ipython3",
   "version": "3.10.9"
  }
 },
 "nbformat": 4,
 "nbformat_minor": 5
}
