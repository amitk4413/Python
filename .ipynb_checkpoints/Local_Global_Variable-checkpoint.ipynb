{
 "cells": [
  {
   "cell_type": "code",
   "execution_count": 12,
   "id": "de2135bf",
   "metadata": {},
   "outputs": [
    {
     "name": "stdout",
     "output_type": "stream",
     "text": [
      "Global Variable vlue of a = 10\n",
      "Global Variable vlue of b = 20\n",
      "----------------------------------------------------------------------------------------------------\n",
      "Local Variable vlue of c = 30\n",
      "Local Variable vlue of b = 50\n",
      "----------------------------------------------------------------------------------------------------\n",
      "Global Variable vlue of b = 20\n"
     ]
    }
   ],
   "source": [
    "a=10\n",
    "print(\"Global Variable vlue of a =\",a)\n",
    "b=20\n",
    "print(\"Global Variable vlue of b =\",b)\n",
    "print('--'*50)\n",
    "def local_val():\n",
    "    c=30\n",
    "    print(\"Local Variable vlue of c =\",c) # local variable\n",
    "    b=50\n",
    "    print(\"Local Variable vlue of b =\",b) # local variable\n",
    "local_val()\n",
    "b=20\n",
    "print('--'*50)\n",
    "print(\"Global Variable vlue of b =\",b)"
   ]
  },
  {
   "cell_type": "markdown",
   "id": "2eb0e96a",
   "metadata": {},
   "source": [
    "# Enumerate"
   ]
  },
  {
   "cell_type": "code",
   "execution_count": 18,
   "id": "60326060",
   "metadata": {},
   "outputs": [
    {
     "name": "stdout",
     "output_type": "stream",
     "text": [
      "[(0, 10), (1, 20), (2, 30), (3, 40)]\n"
     ]
    },
    {
     "data": {
      "text/plain": [
       "[(20, 10), (21, 20), (22, 30), (23, 40)]"
      ]
     },
     "execution_count": 18,
     "metadata": {},
     "output_type": "execute_result"
    }
   ],
   "source": [
    "a=[10,20,30,40]\n",
    "print(list(enumerate(a)))\n",
    "list(enumerate(a,start=20))"
   ]
  },
  {
   "cell_type": "markdown",
   "id": "b30bf230",
   "metadata": {},
   "source": [
    "# Iterator"
   ]
  },
  {
   "cell_type": "code",
   "execution_count": 20,
   "id": "92a58ccc",
   "metadata": {},
   "outputs": [
    {
     "name": "stdout",
     "output_type": "stream",
     "text": [
      "['__add__', '__class__', '__class_getitem__', '__contains__', '__delattr__', '__delitem__', '__dir__', '__doc__', '__eq__', '__format__', '__ge__', '__getattribute__', '__getitem__', '__gt__', '__hash__', '__iadd__', '__imul__', '__init__', '__init_subclass__', '__iter__', '__le__', '__len__', '__lt__', '__mul__', '__ne__', '__new__', '__reduce__', '__reduce_ex__', '__repr__', '__reversed__', '__rmul__', '__setattr__', '__setitem__', '__sizeof__', '__str__', '__subclasshook__', 'append', 'clear', 'copy', 'count', 'extend', 'index', 'insert', 'pop', 'remove', 'reverse', 'sort']\n"
     ]
    }
   ],
   "source": [
    "print(dir(list()))"
   ]
  },
  {
   "cell_type": "code",
   "execution_count": 30,
   "id": "2fe09b8d",
   "metadata": {},
   "outputs": [
    {
     "name": "stdout",
     "output_type": "stream",
     "text": [
      "10\n",
      "40\n",
      "90\n"
     ]
    }
   ],
   "source": [
    "a=[10,40,90]\n",
    "a_iter=iter(a)\n",
    "print(next(a_iter))\n",
    "print(next(a_iter))\n",
    "print(next(a_iter))\n",
    "#print(next(a_iter))"
   ]
  },
  {
   "cell_type": "markdown",
   "id": "925607ec",
   "metadata": {},
   "source": [
    "# Enumerate with iterator"
   ]
  },
  {
   "cell_type": "code",
   "execution_count": 32,
   "id": "54ab23b2",
   "metadata": {},
   "outputs": [
    {
     "data": {
      "text/plain": [
       "(0, 10)"
      ]
     },
     "execution_count": 32,
     "metadata": {},
     "output_type": "execute_result"
    }
   ],
   "source": [
    "a=enumerate([10,40,90])\n",
    "next(a)"
   ]
  },
  {
   "cell_type": "code",
   "execution_count": 34,
   "id": "4127316d",
   "metadata": {},
   "outputs": [
    {
     "data": {
      "text/plain": [
       "0"
      ]
     },
     "execution_count": 34,
     "metadata": {},
     "output_type": "execute_result"
    }
   ],
   "source": [
    "a=iter(range(10))\n",
    "next(a)"
   ]
  },
  {
   "cell_type": "code",
   "execution_count": 51,
   "id": "9c12f14f",
   "metadata": {},
   "outputs": [
    {
     "name": "stdout",
     "output_type": "stream",
     "text": [
      "120\n",
      "48\n",
      "0\n",
      "1\n",
      "4\n"
     ]
    }
   ],
   "source": [
    "import sys\n",
    "print(sys.getsizeof([i**2 for i in range(5)]))\n",
    "print(sys.getsizeof(iter([i**2 for i in range(5)])))\n",
    "acct=iter([i**2 for i in range(5)])\n",
    "print(next(acct))\n",
    "print(next(acct))\n",
    "print(next(acct))"
   ]
  },
  {
   "cell_type": "code",
   "execution_count": 47,
   "id": "da7f1f3d",
   "metadata": {},
   "outputs": [
    {
     "name": "stdout",
     "output_type": "stream",
     "text": [
      "range(0, 5)\n"
     ]
    }
   ],
   "source": [
    "print(range(0,5))"
   ]
  },
  {
   "cell_type": "code",
   "execution_count": 53,
   "id": "677db46c",
   "metadata": {},
   "outputs": [
    {
     "name": "stdout",
     "output_type": "stream",
     "text": [
      "['ArithmeticError', 'AssertionError', 'AttributeError', 'BaseException', 'BlockingIOError', 'BrokenPipeError', 'BufferError', 'BytesWarning', 'ChildProcessError', 'ConnectionAbortedError', 'ConnectionError', 'ConnectionRefusedError', 'ConnectionResetError', 'DeprecationWarning', 'EOFError', 'Ellipsis', 'EncodingWarning', 'EnvironmentError', 'Exception', 'False', 'FileExistsError', 'FileNotFoundError', 'FloatingPointError', 'FutureWarning', 'GeneratorExit', 'IOError', 'ImportError', 'ImportWarning', 'IndentationError', 'IndexError', 'InterruptedError', 'IsADirectoryError', 'KeyError', 'KeyboardInterrupt', 'LookupError', 'MemoryError', 'ModuleNotFoundError', 'NameError', 'None', 'NotADirectoryError', 'NotImplemented', 'NotImplementedError', 'OSError', 'OverflowError', 'PendingDeprecationWarning', 'PermissionError', 'ProcessLookupError', 'RecursionError', 'ReferenceError', 'ResourceWarning', 'RuntimeError', 'RuntimeWarning', 'StopAsyncIteration', 'StopIteration', 'SyntaxError', 'SyntaxWarning', 'SystemError', 'SystemExit', 'TabError', 'TimeoutError', 'True', 'TypeError', 'UnboundLocalError', 'UnicodeDecodeError', 'UnicodeEncodeError', 'UnicodeError', 'UnicodeTranslateError', 'UnicodeWarning', 'UserWarning', 'ValueError', 'Warning', 'WindowsError', 'ZeroDivisionError', '__IPYTHON__', '__build_class__', '__debug__', '__doc__', '__import__', '__loader__', '__name__', '__package__', '__spec__', 'abs', 'aiter', 'all', 'anext', 'any', 'ascii', 'bin', 'bool', 'breakpoint', 'bytearray', 'bytes', 'callable', 'chr', 'classmethod', 'compile', 'complex', 'copyright', 'credits', 'delattr', 'dict', 'dir', 'display', 'divmod', 'enumerate', 'eval', 'exec', 'execfile', 'filter', 'float', 'format', 'frozenset', 'get_ipython', 'getattr', 'globals', 'hasattr', 'hash', 'help', 'hex', 'id', 'input', 'int', 'isinstance', 'issubclass', 'iter', 'len', 'license', 'list', 'locals', 'map', 'max', 'memoryview', 'min', 'next', 'object', 'oct', 'open', 'ord', 'pow', 'print', 'property', 'range', 'repr', 'reversed', 'round', 'runfile', 'set', 'setattr', 'slice', 'sorted', 'staticmethod', 'str', 'sum', 'super', 'tuple', 'type', 'vars', 'zip']\n"
     ]
    }
   ],
   "source": [
    "print(dir(__builtins__))"
   ]
  },
  {
   "cell_type": "code",
   "execution_count": 54,
   "id": "ac6857aa",
   "metadata": {},
   "outputs": [
    {
     "name": "stdout",
     "output_type": "stream",
     "text": [
      "<module 'builtins' (built-in)>\n"
     ]
    }
   ],
   "source": [
    "print(__builtins__)"
   ]
  },
  {
   "cell_type": "code",
   "execution_count": 57,
   "id": "d73e4e79",
   "metadata": {},
   "outputs": [
    {
     "name": "stdout",
     "output_type": "stream",
     "text": [
      "['__doc__', '__loader__', '__name__', '__package__', '__spec__', 'acos', 'acosh', 'asin', 'asinh', 'atan', 'atan2', 'atanh', 'ceil', 'comb', 'copysign', 'cos', 'cosh', 'degrees', 'dist', 'e', 'erf', 'erfc', 'exp', 'expm1', 'fabs', 'factorial', 'floor', 'fmod', 'frexp', 'fsum', 'gamma', 'gcd', 'hypot', 'inf', 'isclose', 'isfinite', 'isinf', 'isnan', 'isqrt', 'lcm', 'ldexp', 'lgamma', 'log', 'log10', 'log1p', 'log2', 'modf', 'nan', 'nextafter', 'perm', 'pi', 'pow', 'prod', 'radians', 'remainder', 'sin', 'sinh', 'sqrt', 'tan', 'tanh', 'tau', 'trunc', 'ulp']\n"
     ]
    }
   ],
   "source": [
    "import math\n",
    "print(dir(math))"
   ]
  },
  {
   "cell_type": "code",
   "execution_count": null,
   "id": "0df00950",
   "metadata": {},
   "outputs": [],
   "source": []
  }
 ],
 "metadata": {
  "kernelspec": {
   "display_name": "Python 3 (ipykernel)",
   "language": "python",
   "name": "python3"
  },
  "language_info": {
   "codemirror_mode": {
    "name": "ipython",
    "version": 3
   },
   "file_extension": ".py",
   "mimetype": "text/x-python",
   "name": "python",
   "nbconvert_exporter": "python",
   "pygments_lexer": "ipython3",
   "version": "3.10.9"
  }
 },
 "nbformat": 4,
 "nbformat_minor": 5
}
