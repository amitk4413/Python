{
 "cells": [
  {
   "cell_type": "markdown",
   "id": "c8b0167d",
   "metadata": {},
   "source": [
    "#### Python is an Object oriented programming language i.e everything in Python is an object. There are special kind of methods in Python known as magic methods or dunder methods (dunder here means “Double Underscores”). Dunder or magic methods in Python are the methods having two prefix and suffix underscores in the method name. These are commonly used for operator overloading.\n",
    "Few examples for magic methods are: __init__,__new__ , __add__, __len__, __repr__ etc."
   ]
  },
  {
   "cell_type": "markdown",
   "id": "f97f49a9",
   "metadata": {},
   "source": [
    "**Four pillars of Object Oriented Programming :-\n",
    "i)Encapsulation\n",
    "ii)Inheritance\n",
    "iii)Polymorphism\n",
    "iv)Abstraction "
   ]
  },
  {
   "cell_type": "markdown",
   "id": "94c7b7f1",
   "metadata": {},
   "source": [
    "###    The three different types of variables in OOP in Python are:\n",
    "\n",
    "i)  Instance Variables: Variables that are defined inside __init__ are called instance variables and these are of object level.\n",
    "\n",
    "ii) Class/Static Variables: Variables that are defined outside the __init__ method are called class variables and these are of       class level.\n",
    "\n",
    "iii) Local variables: Variables that are confined to a method are called local variables and these are of method level.\n",
    "\n",
    "#### Note :- If an instance has same variable name as class variable name defined at instance level then instance variable value will be taken else class variable will be taken."
   ]
  },
  {
   "cell_type": "code",
   "execution_count": null,
   "id": "05a31c3e",
   "metadata": {},
   "outputs": [],
   "source": [
    "#instance & class variable\n",
    "\n",
    "class Employee:\n",
    "    company ='TCS' # name is Class/Static variable\n",
    "    \n",
    "    def __init__(self,name1):\n",
    "        self.emp_name=name1   # name is instance/object variable\n",
    "        \n",
    "    def display(self):\n",
    "        loc = 'Mumbai'  # local variable\n",
    "        print(f\"Employee's name is {self.emp_name} and his company name is {self.company} located in {loc}\")\n",
    "        \n",
    "    def add(self,a,b):  # a,b are also local variable and if we write self.a or self.b it will give error as it is not associated with instance \n",
    "        return a+b\n",
    "\n",
    "print('----'*20)        \n",
    "e1=Employee(\"Amit\")\n",
    "e1.display()\n",
    "#Employee.display(e1) # alternate way of accessing function using class name\n",
    "print('----'*20) \n",
    "e2=Employee(\"XYZ\")\n",
    "e2.display()\n",
    "print('----'*20) \n",
    "# Changing company of employee Amit and it will take instance variable value and not class variable value\n",
    "e1.company='Apple'\n",
    "e1.display()\n",
    "Employee.display(e1)\n",
    "print(\"Addition accessed by object e1 =\",e1.add(10,20))\n",
    "\n",
    "# to change class variable value for all instance , use below :-\n",
    "Employee.company ='Nestle'\n",
    "e1.display()\n",
    "e2.display()"
   ]
  },
  {
   "cell_type": "code",
   "execution_count": null,
   "id": "780311f8",
   "metadata": {},
   "outputs": [],
   "source": [
    "# why __init__ is required ?\n",
    "\n",
    "class A:\n",
    "    def Details(self):\n",
    "        return f\"My name is {self.name}\"\n",
    "a1=A()\n",
    "a1.name=\"Amit\"\n",
    "a1.Details()\n",
    "\n",
    "# Here you can see , for other names we have to type every time.So, the simple way would be as below shell\n",
    "# __init__ method purpose is just to alter the fresh state of the newly created instance.\n",
    "# __init__ doesn't return aything and it wouldn’t even make sense to return anything from __init__ . \n",
    "# By default ,  __init__ returns \"None\""
   ]
  },
  {
   "cell_type": "code",
   "execution_count": null,
   "id": "38c40902",
   "metadata": {},
   "outputs": [],
   "source": [
    "\n",
    "class A:\n",
    "    def __init__(self,name1):\n",
    "        self.name=name1\n",
    "    def Details(self):\n",
    "        return f\"My name is {self.name}\"\n",
    "a1=A(\"Amit\")\n",
    "#a1.name=\"Amit\"\n",
    "a1.Details()"
   ]
  },
  {
   "cell_type": "code",
   "execution_count": null,
   "id": "da145947",
   "metadata": {},
   "outputs": [],
   "source": [
    "#instance method -> Instance/Object is passed \n",
    "\n",
    "class Student:\n",
    "    def __init__(self,name,id,email):\n",
    "        self.name1=name\n",
    "        self.id1=id\n",
    "        self.email1=email\n",
    "obj1=Student('zyx',10,'xyz@gmail.com')\n",
    "Student('pqr',20,'pqr@gmail.com')"
   ]
  },
  {
   "cell_type": "code",
   "execution_count": null,
   "id": "71dc010c",
   "metadata": {},
   "outputs": [],
   "source": [
    "print(dir(obj1))\n",
    "obj1.__dict__"
   ]
  },
  {
   "cell_type": "code",
   "execution_count": null,
   "id": "c6688256",
   "metadata": {},
   "outputs": [],
   "source": [
    "obj1.name1"
   ]
  },
  {
   "cell_type": "markdown",
   "id": "15e90417",
   "metadata": {},
   "source": [
    "# Difference between __init__  and  __new__\n",
    "\n",
    "i)  the __new__ method is defined as a static method which requires to pass a parameter cls and the compiler automatically provides this parameter \"cls\" at the time of instantiation.\n",
    "and __init__ is a special method known as the constructor or instance method and the compiler automatically provides the instance parameter \"self\" at the time of instantiation.\n",
    "ii)  the __new__ method is executed first and decides whether to use __init__ method or not\n",
    "iii)  __new__ method will be called when an object is created and __init__ method will be called to initialize the object. \n",
    "iv) __new__ method is called automatically when calling the class name, whereas __init__ method is called every time an instance of the class is returned by __new__ method, passing the returned instance to __init__ as the self parameter\n"
   ]
  },
  {
   "cell_type": "code",
   "execution_count": 21,
   "id": "76344fa1",
   "metadata": {},
   "outputs": [
    {
     "name": "stdout",
     "output_type": "stream",
     "text": [
      "This message is from __new__ method\n",
      "This message is from __init__ method\n"
     ]
    }
   ],
   "source": [
    "class A:\n",
    "    def __new__(cls):\n",
    "        print(\"This message is from __new__ method\")\n",
    "        return super().__new__(cls)   # instance of the class is returned by __new__ method. \n",
    "                                            # If this is commented __init__will not be called.\n",
    "        \n",
    "    def __init__(self):\n",
    "        print(\"This message is from __init__ method\")\n",
    "    \n",
    "obj1=A()"
   ]
  },
  {
   "cell_type": "code",
   "execution_count": 11,
   "id": "5e6fb637",
   "metadata": {},
   "outputs": [
    {
     "name": "stdout",
     "output_type": "stream",
     "text": [
      "This is class method\n"
     ]
    }
   ],
   "source": [
    "#class method -> class is passed\n",
    "\n",
    "class Student:\n",
    "    def __init__(self,name,id,email):\n",
    "        self.name1=name\n",
    "        self.id1=id\n",
    "        self.email1=email\n",
    "    @classmethod              # -------------------------------------> Decorator when written with @\n",
    "    def getname(cls):\n",
    "        print(\"This is class method\")\n",
    "obj1=Student('zyx',10,'xyz@gmail.com')\n",
    "obj1.getname()"
   ]
  },
  {
   "cell_type": "code",
   "execution_count": null,
   "id": "9778b387",
   "metadata": {},
   "outputs": [],
   "source": [
    "#static method -> it is not bound to any instance or class.\n",
    "\n",
    "class Student:\n",
    "    def __init__(self,name,id,email):\n",
    "        self.name1=name\n",
    "        self.id1=id\n",
    "        self.email1=email\n",
    "    @staticmethod\n",
    "    def stat():\n",
    "        print(\"This is static method\")\n",
    "\n",
    "obj1=Student('zyx',10,'xyz@gmail.com')\n",
    "obj1.stat()"
   ]
  },
  {
   "cell_type": "markdown",
   "id": "8dbe2241",
   "metadata": {},
   "source": [
    "# Accessibility :- There are three access mode \n",
    "\n",
    "i)  public :- default mode\n",
    "\n",
    "ii) protected :- _<variable_name>  -> is of no use =>  by definition it can be accessed within class and child class. But in python it can be outside class.\n",
    "\n",
    "iii) private:- __<variable_name> =>  by definition it can be accessed only within class. \n",
    "\n",
    "Note :- function can also be made private by __<function name>"
   ]
  },
  {
   "cell_type": "code",
   "execution_count": 18,
   "id": "c89abd15",
   "metadata": {},
   "outputs": [
    {
     "name": "stdout",
     "output_type": "stream",
     "text": [
      "10\n",
      "20\n"
     ]
    }
   ],
   "source": [
    "class access:\n",
    "    _protect_var =10\n",
    "    __private_var =20\n",
    "    def __init__(self,name,email):\n",
    "        self.name1=name\n",
    "        self.email1=email\n",
    "a1=access('zzz','zzz@gmail.com')\n",
    "print(a1._protect_var)\n",
    "#print(a1.__private_var) # Uncommenting this will give error\n",
    "print(a1._access__private_var) # by this we can access private variable"
   ]
  },
  {
   "cell_type": "code",
   "execution_count": 17,
   "id": "2767a41e",
   "metadata": {},
   "outputs": [
    {
     "name": "stdout",
     "output_type": "stream",
     "text": [
      "['__class__', '__delattr__', '__dict__', '__dir__', '__doc__', '__eq__', '__format__', '__ge__', '__getattribute__', '__gt__', '__hash__', '__init__', '__init_subclass__', '__le__', '__lt__', '__module__', '__ne__', '__new__', '__reduce__', '__reduce_ex__', '__repr__', '__setattr__', '__sizeof__', '__str__', '__subclasshook__', '__weakref__', '_access__private_var', '_protect_var']\n"
     ]
    }
   ],
   "source": [
    "print(dir(access))"
   ]
  },
  {
   "cell_type": "code",
   "execution_count": null,
   "id": "2e772afb",
   "metadata": {},
   "outputs": [],
   "source": [
    "#private variable can be accessed outside class using this method. This is called as \"Name Mangling\"\n",
    "\n",
    "print(a1._access__private_var)"
   ]
  },
  {
   "cell_type": "markdown",
   "id": "22bbb484",
   "metadata": {},
   "source": [
    "# getter (Accessor or Getter Method)"
   ]
  },
  {
   "cell_type": "code",
   "execution_count": 2,
   "id": "7cc53443",
   "metadata": {},
   "outputs": [
    {
     "name": "stdout",
     "output_type": "stream",
     "text": [
      "<class 'str'>\n"
     ]
    }
   ],
   "source": [
    "# getter -> It is defined as property . It is always advisable to have individual getter and setter fuction for each attributes\n",
    "# like name, age etc. getter returs the value\n",
    "\n",
    "#once defined as property , it is no longer a function/method , it is just a variable of return type. In below case 'getter1' \n",
    "#is srting\n",
    "\n",
    "class access:\n",
    "    def __init__(self,name,email):\n",
    "        self.name1=name\n",
    "        self.email1=email\n",
    "        \n",
    "    @property\n",
    "    def getter1(self):\n",
    "        return self.name1;\n",
    "    \n",
    "a1=access('zzz','zzz@gmail.com')\n",
    "a1.getter1\n",
    "print(type(a1.getter1))"
   ]
  },
  {
   "cell_type": "markdown",
   "id": "cdfe0ad8",
   "metadata": {},
   "source": [
    "# setter (Mutator or Setter Method)"
   ]
  },
  {
   "cell_type": "code",
   "execution_count": 1,
   "id": "845a4086",
   "metadata": {},
   "outputs": [
    {
     "name": "stdout",
     "output_type": "stream",
     "text": [
      "zzz\n",
      "Amit\n",
      "<class 'str'>\n"
     ]
    }
   ],
   "source": [
    "# setter -> @<function_name>.setter\n",
    "\n",
    "class access:\n",
    "    def __init__(self,name,email):\n",
    "        self.name1=name\n",
    "        self.email1=email\n",
    "    @property\n",
    "    def getter1(self):\n",
    "        return self.name1\n",
    "        \n",
    "    @getter1.setter\n",
    "    def getter1(self,new_name):\n",
    "        self.name1=new_name\n",
    "    \n",
    "a1=access('zzz','zzz@gmail.com')\n",
    "print(a1.getter1)\n",
    "a1.getter1='Amit' #As it is not a function but will behave as a variable so we need to assign value rather than pass as argument\n",
    "print(a1.getter1)\n",
    "print(type(a1.getter1))"
   ]
  },
  {
   "cell_type": "markdown",
   "id": "a38a734f",
   "metadata": {},
   "source": [
    "# Inheritence (parent-child relationship)\n",
    "\n",
    "i)   Single :- https://media.geeksforgeeks.org/wp-content/uploads/20200108135809/inheritance11.png\n",
    "ii)  Multiple :- https://media.geeksforgeeks.org/wp-content/uploads/20200108144424/multiple-inheritance1.png\n",
    "iii) Multilevel :- https://media.geeksforgeeks.org/wp-content/uploads/20200108144705/Multilevel-inheritance1.png\n",
    "iv)  Hierarchical inheritance :- https://media.geeksforgeeks.org/wp-content/uploads/20200108144949/Hierarchical-inheritance1.png\n",
    "v)   Hybrid inheritance :- https://media.geeksforgeeks.org/wp-content/uploads/Hybrid-Inheritance.png\n"
   ]
  },
  {
   "cell_type": "code",
   "execution_count": null,
   "id": "8957930e",
   "metadata": {},
   "outputs": [],
   "source": [
    "# i) Single Inheritence (without init--it is normal):-\n",
    "\n",
    "class parent1:\n",
    "    def message(self):\n",
    "        print(\"Hello! This message from parent class\")\n",
    "        \n",
    "class child1(parent1):\n",
    "    pass\n",
    "\n",
    "c1=child1()\n",
    "c1.message()"
   ]
  },
  {
   "cell_type": "code",
   "execution_count": null,
   "id": "441f05ce",
   "metadata": {},
   "outputs": [],
   "source": [
    "# i) Single Inheritence -- In case of __init__ , If child doesn't have init method then it will refer to its parent class\n",
    "\n",
    "class parent1:    \n",
    "    def __init__(self,a): # Constructor gets executed as soon as object gets created\n",
    "        print(\"Hello! This message from init of parent class\")\n",
    "        \n",
    "    def message(self):\n",
    "        print(\"Hello! This message from parent class\")\n",
    "        \n",
    "class child1(parent1):\n",
    "    pass\n",
    "\n",
    "c1=child1(10)\n",
    "c1.message()"
   ]
  },
  {
   "cell_type": "code",
   "execution_count": null,
   "id": "66339723",
   "metadata": {},
   "outputs": [],
   "source": [
    "# i) Single Inheritence -- If child has init method then object should be created based on child.\n",
    "\n",
    "class parent1:\n",
    "    def message(self):\n",
    "        print(\"Hello! This message from parent class\")\n",
    "        \n",
    "class child1(parent1):\n",
    "    def __init__(self,a): # Constructor gets executed as soon as object gets created\n",
    "        print(\"Hello! This message from child class\")\n",
    "\n",
    "c1=child1(10)\n",
    "c1.message()"
   ]
  },
  {
   "cell_type": "code",
   "execution_count": null,
   "id": "447f33cd",
   "metadata": {},
   "outputs": [],
   "source": [
    "# i) Single Inheritence -- If child has init method then object should be created based on child.\n",
    "\n",
    "class parent1:\n",
    "    def __init__(self,a,b): # Constructor gets executed as soon as object gets created\n",
    "        print(\"Hello! This message from parent class\")\n",
    "        \n",
    "class child1(parent1):\n",
    "    def __init__(self,a): # Constructor gets executed as soon as object gets created\n",
    "        print(\"Hello! This message from child class\")\n",
    "\n",
    "c1=child1(10)\n",
    "#c1=child1(10,20) # it will give error, as we should create object based on child __init__ method"
   ]
  },
  {
   "cell_type": "markdown",
   "id": "7c7c5881",
   "metadata": {},
   "source": [
    "# super() Function :- only work inside child class\n",
    "\n",
    "The super() function is a built-in function that returns the objects that represent the parent class or superclass. It allows to access the parent class’s methods and attributes in the child class."
   ]
  },
  {
   "cell_type": "code",
   "execution_count": null,
   "id": "bcd9d0ae",
   "metadata": {},
   "outputs": [],
   "source": [
    "class parent1:\n",
    "    def __init__(self,a,b): # Constructor gets executed as soon as object gets created\n",
    "        print(\"Hello! This message from parent class\")\n",
    "        self.a=a\n",
    "        self.b=a\n",
    "    def displaym(self):\n",
    "        print(\"Hello! This message from class function\")\n",
    "        \n",
    "class child1(parent1):\n",
    "    def __init__(self,a1,b1): # Constructor gets executed as soon as object gets created\n",
    "        print(\"Hello! This message from child class\")\n",
    "        super().__init__(a1,b1)\n",
    "        #parent1.__init__(self,a1,b1)  #--> alternative to super\n",
    "\n",
    "c1=child1(10,20)\n",
    "c1.displaym()\n",
    "c1.a"
   ]
  },
  {
   "cell_type": "code",
   "execution_count": null,
   "id": "c34ebef4",
   "metadata": {},
   "outputs": [],
   "source": [
    "# ii) Multiple Inheritence -- without super() usage\n",
    "\n",
    "class parent1:\n",
    "    def __init__(self,a):\n",
    "        self.a1=a\n",
    "        \n",
    "class parent2:\n",
    "    def __init__(self,b,c):\n",
    "        self.b1=b\n",
    "        self.c1=c\n",
    "class child1(parent1,parent2):\n",
    "    def __init__(self,d,e,f,a,b,c):\n",
    "        self.d1=d\n",
    "        self.e1=e\n",
    "        self.f1=f\n",
    "        parent1.__init__(self,a)\n",
    "        parent2.__init__(self,b,c)\n",
    "        \n",
    "c1=child1(10,20,30,40,50,60)\n",
    "\n",
    "print(c1.a1)\n",
    "print(c1.b1)\n",
    "print(c1.c1)\n",
    "print(c1.d1)\n",
    "print(c1.e1)\n",
    "print(c1.f1)"
   ]
  },
  {
   "cell_type": "code",
   "execution_count": null,
   "id": "5785f2f5",
   "metadata": {},
   "outputs": [],
   "source": [
    "# ii) Multiple Inheritence -- with super() usage\n",
    "#super() by default calls first parent in sequence , in below case parent1 init will be called . So, we need to handle this to\n",
    "#invoke init of parent1 & parent2\n",
    "\n",
    "class parent1:\n",
    "    def __init__(self,a):\n",
    "        self.a1=a\n",
    "        \n",
    "class parent2:\n",
    "    def __init__(self,b,c):\n",
    "        self.b1=b\n",
    "        self.c1=c\n",
    "        \n",
    "class parent3:\n",
    "    def __init__(self,g,h):\n",
    "        self.g1=g\n",
    "        self.h1=h\n",
    "        \n",
    "class child1(parent1,parent2,parent3):\n",
    "    def __init__(self,d,e,f,a,b,c,g,h):\n",
    "        self.d1=d\n",
    "        self.e1=e\n",
    "        self.f1=f\n",
    "        super().__init__(a)\n",
    "        super(parent1,self).__init__(b,c) # it means skip parent1 and go to init of parent2\n",
    "        super(parent2,self).__init__(g,h) # it means skip parent2 and go to init of parent3\n",
    "        \n",
    "c1=child1(10,20,30,40,50,60,70,80)\n",
    "\n",
    "print(c1.a1)\n",
    "print(c1.b1)\n",
    "print(c1.c1)\n",
    "print(c1.d1)\n",
    "print(c1.e1)\n",
    "print(c1.f1)\n",
    "print(c1.g1)\n",
    "print(c1.h1)"
   ]
  },
  {
   "cell_type": "markdown",
   "id": "03117b45",
   "metadata": {},
   "source": [
    "# iii) Multilevel Inheritence\n",
    "\n",
    "A\n",
    "|\n",
    "B (initialize init of A,if there in A)\n",
    "|\n",
    "C (initialize init of B,if there in B)\n"
   ]
  },
  {
   "cell_type": "code",
   "execution_count": null,
   "id": "e669d2f4",
   "metadata": {},
   "outputs": [],
   "source": [
    "class A:\n",
    "    def __init__(self,a):\n",
    "        print(\"A\")\n",
    "        self.a1=a\n",
    "        \n",
    "class B(A):\n",
    "    def __init__(self,b):\n",
    "        print(\"B\")\n",
    "        self.b1=b\n",
    "    def display1(self):\n",
    "        print(\"Hello from B\")\n",
    "        \n",
    "class C(B):\n",
    "    def __init__(self,a,b):\n",
    "        print(\"C\")\n",
    "        c1.display1()\n",
    "        B.__init__(self,b)\n",
    "        A.__init__(self,a)\n",
    "\n",
    "c1=C(10,20)\n",
    "print(c1.a1)\n",
    "print(c1.b1)\n",
    "c1.display1()"
   ]
  },
  {
   "cell_type": "markdown",
   "id": "1cede042",
   "metadata": {},
   "source": [
    "# MRO :- Method resolution order in Python Inheritance\n",
    "\n",
    "### The order in which the attributes/functions will be accessed by a class"
   ]
  },
  {
   "cell_type": "code",
   "execution_count": null,
   "id": "bce9ec0a",
   "metadata": {},
   "outputs": [],
   "source": [
    "C.__mro__"
   ]
  },
  {
   "cell_type": "code",
   "execution_count": null,
   "id": "3683ac1f",
   "metadata": {},
   "outputs": [],
   "source": [
    "class A:\n",
    "    pass\n",
    "class B:\n",
    "    pass\n",
    "class C(A,B):\n",
    "    pass\n",
    "class D(B):\n",
    "    pass\n",
    "class E(C,D):\n",
    "    pass\n",
    "\n",
    "E.__mro__"
   ]
  },
  {
   "cell_type": "code",
   "execution_count": null,
   "id": "782b6161",
   "metadata": {},
   "outputs": [],
   "source": [
    "E->C->A no further ...come back to E->D->B ===> finally E->C->A->D->B->object(builtins)"
   ]
  },
  {
   "cell_type": "markdown",
   "id": "2c7f57fb",
   "metadata": {},
   "source": [
    "# Composition  \n",
    "\n",
    "In composition , we build relation between various class but unlike inheritence , we create object of one class into another \n",
    "to use some feature of the class whose object is created.\n",
    "\n",
    "Composition is another Object Oriented programming approach. We use it when we want to use some aspect of another class without promising all of the features of that other class."
   ]
  },
  {
   "cell_type": "code",
   "execution_count": 15,
   "id": "c414e545",
   "metadata": {},
   "outputs": [
    {
     "data": {
      "text/plain": [
       "'Employee xyz has a current ctc of 60000'"
      ]
     },
     "execution_count": 15,
     "metadata": {},
     "output_type": "execute_result"
    }
   ],
   "source": [
    "#comosition\n",
    "\n",
    "class salary:\n",
    "\n",
    "    def ctc(Self):\n",
    "        month_sal=5000\n",
    "        ctc_comp=month_sal*12\n",
    "        return ctc_comp\n",
    "    \n",
    "class employee:\n",
    "    def __init__(self,name1):\n",
    "        self.name=name1\n",
    "        \n",
    "    def emp_detail(self):\n",
    "        sal_obj = salary()\n",
    "        ctc1=sal_obj.ctc()\n",
    "        return f'Employee {self.name} has a current ctc of {ctc1}'\n",
    "\n",
    "emp1=employee(\"xyz\")\n",
    "\n",
    "emp1.emp_detail()"
   ]
  },
  {
   "cell_type": "markdown",
   "id": "b8e89e5f",
   "metadata": {},
   "source": [
    "# Polymorphism :-\n",
    "\n",
    "##### In software development, it’s quite important to have this feature. Through polymorphism, a single action can be performed in various ways. This concept is widely used when we talk about loose coupling, dependency injection and interface etc.\n",
    "\n",
    "Example of inbuilt polymorphic functions: \n",
    "\n",
    "i)  '+' operator :- addition of int , addition of string (same opertor different behaviour)\n",
    "ii) 'len' :- len() being used for a string gives number of characters in a string\n",
    "             len() being used for a list gives number of item in a list\n",
    "             \n",
    "### Polymorphism process can be achieved in two main ways namely \n",
    "     i) overloading \n",
    "        a) Operator Overloading :- Operator overloading is the type of overloading in which an operator can be used in multiple                                    ways beyond its predefined meaning.\n",
    "        b) Method Overloading   :- Method overloading means a class containing multiple methods with the same name but may have                                    different arguments. \n",
    "                                   Basically python does not support method overloading,\n",
    "                                   but there are several ways to achieve method overloading. Though method overloading can be                                      achieved, the last defined methods can only be usable.\n",
    "                                   Method overloading is achieved using default parameters in methods and *args and **kwargs, as                                    we can pass variable number of arguments of different types to a method.\n",
    "        \n",
    "    ii) overriding. :- \n",
    "        a) Method overriding    :- is the process of modifying a base class from the derived class having the same methods                                          and same number of arguments."
   ]
  },
  {
   "cell_type": "code",
   "execution_count": null,
   "id": "cb5f3327",
   "metadata": {},
   "outputs": [],
   "source": [
    "# Operator Overloading :- help(int) and will see  __add__(self, value, /) function/method defined. __add__ is called for '+'\n",
    "# In same we can have for our user defined method as well.\n",
    "\n",
    "# let's take an example where using 'add' operator overriding will add o/p of two different objects\n",
    "\n",
    "class Rectangle:\n",
    "    def __init__(self,length,width):\n",
    "        self.len1=length\n",
    "        self.wid1=width\n",
    "        \n",
    "    def area(self):\n",
    "        return self.len1 * self.wid1\n",
    "    \n",
    "    def __add__(self, value1):         # '+' operator overloading\n",
    "        return self.area()+value1.area()\n",
    "    \n",
    "    def __gt__(self, value1):         # '>' operator overloading\n",
    "        return self.area()>value1.area()\n",
    "    \n",
    "r1=Rectangle(10,20)\n",
    "print(\"Area using object r1 =\",r1.area())\n",
    "\n",
    "r2=Rectangle(30,30)\n",
    "print(\"Area using object r2 =\",r2.area())\n",
    "\n",
    "print(\"Area addition using object r1 and r2 =\",r1+r2)\n",
    "\n",
    "print(\"Area of object r1 > then Area of object r2 =\",r1>r2)\n"
   ]
  },
  {
   "cell_type": "code",
   "execution_count": null,
   "id": "c60cbab8",
   "metadata": {},
   "outputs": [],
   "source": [
    "# Method Overloading :- same function name with differet argument . But this is not supported in Python \n",
    "# and will consider the latest method\n",
    "# a1.add1(10,20,30) will not give error but if we put a1.add1(10,20) then will throw error as 'c' is missing \n",
    "# as it looks on latest method\n",
    "\n",
    "class A:\n",
    "    def add1(self,a,b):\n",
    "        return a + b \n",
    "    \n",
    "    def add1(self,a,b,c):\n",
    "        return a + b + c\n",
    "    \n",
    "a1=A()\n",
    "a1.add1(10,20,30)"
   ]
  },
  {
   "cell_type": "code",
   "execution_count": null,
   "id": "275b0885",
   "metadata": {},
   "outputs": [],
   "source": [
    " #Method overriding    :- is the process of modifying a base class from the derived class having the same methods\n",
    " #                        and same number of arguments.\n",
    "\n",
    "class A():\n",
    "    def working_hrs(self):\n",
    "        return 40\n",
    "\n",
    "class B(A):\n",
    "    def working_hrs(self):     # Method overriding as same method name but return will be 100 when child instance access working_hrs\n",
    "        return 100\n",
    "\n",
    "c1=B()\n",
    "c1.working_hrs()"
   ]
  },
  {
   "cell_type": "markdown",
   "id": "d99c24c7",
   "metadata": {},
   "source": [
    "## example of builtin overriding is constructor overriding :- \n",
    "\n",
    "##### When both parent and child has init method then here the init of child will be accessed by child object and not the inherited base/parent class"
   ]
  },
  {
   "cell_type": "markdown",
   "id": "0a2b4b80",
   "metadata": {},
   "source": [
    "### special __str__(self)  method to change the description of an object"
   ]
  },
  {
   "cell_type": "code",
   "execution_count": 6,
   "id": "3e1343e1",
   "metadata": {},
   "outputs": [
    {
     "name": "stdout",
     "output_type": "stream",
     "text": [
      "Help on A in module __main__ object:\n",
      "\n",
      "class A(builtins.object)\n",
      " |  Methods defined here:\n",
      " |  \n",
      " |  __str__(self)\n",
      " |      Return str(self).\n",
      " |  \n",
      " |  working_hrs(self)\n",
      " |  \n",
      " |  ----------------------------------------------------------------------\n",
      " |  Data descriptors defined here:\n",
      " |  \n",
      " |  __dict__\n",
      " |      dictionary for instance variables (if defined)\n",
      " |  \n",
      " |  __weakref__\n",
      " |      list of weak references to the object (if defined)\n",
      "\n"
     ]
    }
   ],
   "source": [
    "# when we do str(<object>) , we get definition with some hexadecimal values. If we want to print in our own defined language\n",
    "# we can do it by below.\n",
    "\n",
    "class A():\n",
    "    def working_hrs(self):\n",
    "        return 40\n",
    "    def __str__(self):\n",
    "        return f\"The object returns the working hours.\"\n",
    "a1=A()\n",
    "str(a1)\n",
    "help(a1)"
   ]
  },
  {
   "cell_type": "markdown",
   "id": "292fd174",
   "metadata": {},
   "source": [
    "# Abstraction :-\n",
    "\n",
    "Abstraction is used to hide the internal functionality of the function from the users. The users only interact with the basic implementation of the function, but inner working is hidden. User is familiar with that \"what function does\" but they don't know \"how it does.\"\n",
    "\n",
    "An abstract class can be considered as a blueprint for other classes. \n",
    "\n",
    "**It allows you to create a set of methods that must be created within any child classes built from the abstract class. \n",
    "An abstract method is a method that has a declaration but does not have an implementation.\n",
    "\n",
    "By default, Python does not provide abstract classes. Python comes with a module that provides the base for defining Abstract Base classes(ABC) and that module name is abc\n",
    "\n",
    "**from abc import ABC, abstractmethod\n",
    "\n",
    "**Note: We cannot create instances of an abstract class. It raises an Error.\n",
    "\n",
    "**If a derived class does not implement all methods of its abstract base class, then that derived also becomes abstract and cannot be instantiated. \n",
    "\n",
    "**Note: Child class should have same numbers of abstract methods as that of an parent abstract class\n",
    "\n",
    "In general, we create a class say Shape and under it will have its child as rectangle,square etc where Shape class will set\n",
    "a discpline to have all its child class to have a common method as \"Area\" . Withot it child class will not survive."
   ]
  },
  {
   "cell_type": "code",
   "execution_count": 15,
   "id": "fa12f918",
   "metadata": {},
   "outputs": [
    {
     "data": {
      "text/plain": [
       "200"
      ]
     },
     "execution_count": 15,
     "metadata": {},
     "output_type": "execute_result"
    }
   ],
   "source": [
    "from abc import ABC,abstractmethod\n",
    "\n",
    "class Shape(ABC):\n",
    "    @abstractmethod\n",
    "    def Area():\n",
    "        pass\n",
    "    \n",
    "class Square(Shape):\n",
    "    def __init__(self,len,bre):\n",
    "        self.length=len\n",
    "        self.breadth=bre\n",
    "        \n",
    "    def Area(self):\n",
    "        return self.length * self.breadth\n",
    "\n",
    "s1=Square(10,20)\n",
    "s1.Area()\n",
    "\n",
    "# s2=Shape()  # This is not allowed as we can't create object of an Abstract class"
   ]
  },
  {
   "cell_type": "markdown",
   "id": "751d5c5c",
   "metadata": {},
   "source": [
    "# Concrete class :-\n",
    "\n",
    "A Concrete class is a class that has a definition for all its methods and has no abstract method."
   ]
  },
  {
   "cell_type": "markdown",
   "id": "19203305",
   "metadata": {},
   "source": [
    "# Interface :-\n",
    "\n",
    "1) An abstract class can contain both abstract and non-abstract methods(i.e. concrete methods), whereas an Interface can have only abstract methods.\n",
    "\n",
    "2) All methods of an interface are abstract\n",
    "\n",
    "3) The interface is slow as compared to the abstract class.\n",
    "\n",
    "4) For this also , we need below :-\n",
    "\n",
    "**from abc import ABC,abstractmethod"
   ]
  }
 ],
 "metadata": {
  "kernelspec": {
   "display_name": "Python 3 (ipykernel)",
   "language": "python",
   "name": "python3"
  },
  "language_info": {
   "codemirror_mode": {
    "name": "ipython",
    "version": 3
   },
   "file_extension": ".py",
   "mimetype": "text/x-python",
   "name": "python",
   "nbconvert_exporter": "python",
   "pygments_lexer": "ipython3",
   "version": "3.10.9"
  }
 },
 "nbformat": 4,
 "nbformat_minor": 5
}
