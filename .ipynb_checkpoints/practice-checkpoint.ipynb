{
 "cells": [
  {
   "cell_type": "code",
   "execution_count": 14,
   "id": "15b5deb9",
   "metadata": {},
   "outputs": [
    {
     "name": "stdout",
     "output_type": "stream",
     "text": [
      "False\n"
     ]
    }
   ],
   "source": [
    "print((10==20))"
   ]
  },
  {
   "cell_type": "code",
   "execution_count": 13,
   "id": "9d63b261",
   "metadata": {},
   "outputs": [
    {
     "name": "stdout",
     "output_type": "stream",
     "text": [
      "['False', 'None', 'True', 'and', 'as', 'assert', 'async', 'await', 'break', 'class', 'continue', 'def', 'del', 'elif', 'else', 'except', 'finally', 'for', 'from', 'global', 'if', 'import', 'in', 'is', 'lambda', 'nonlocal', 'not', 'or', 'pass', 'raise', 'return', 'try', 'while', 'with', 'yield']\n"
     ]
    }
   ],
   "source": [
    "import keyword\n",
    "print(keyword.kwlist)"
   ]
  },
  {
   "cell_type": "code",
   "execution_count": 26,
   "id": "b075e36a",
   "metadata": {},
   "outputs": [
    {
     "name": "stdout",
     "output_type": "stream",
     "text": [
      "Enter the value of a =10\n",
      "Data type of a = <class 'str'>\n",
      "ENter the value of b =20\n",
      "Data type of b = <class 'str'>\n",
      "Data type of c = <class 'str'>\n",
      "Sum of a & b = 1020\n"
     ]
    }
   ],
   "source": [
    "a=input(\"Enter the value of a =\")\n",
    "print(\"Data type of a =\",type(a))\n",
    "b=input(\"ENter the value of b =\")\n",
    "print(\"Data type of b =\",type(b))\n",
    "c=a+b\n",
    "print(\"Data type of c =\",type(c))\n",
    "print(\"Sum of a & b =\",c)"
   ]
  },
  {
   "cell_type": "code",
   "execution_count": 27,
   "id": "e35621c4",
   "metadata": {},
   "outputs": [
    {
     "name": "stdout",
     "output_type": "stream",
     "text": [
      "Enter the value of a =10\n",
      "Data type of a = <class 'str'>\n",
      "ENter the value of b =20\n",
      "Data type of b = <class 'str'>\n",
      "Data type of c = <class 'int'>\n",
      "Sum of a & b = 30\n"
     ]
    }
   ],
   "source": [
    "a=input(\"Enter the value of a =\")\n",
    "print(\"Data type of a =\",type(a))\n",
    "b=input(\"ENter the value of b =\")\n",
    "print(\"Data type of b =\",type(b))\n",
    "c=int(a)+int(b)\n",
    "print(\"Data type of c =\",type(c))\n",
    "print(\"Sum of a & b =\",c)"
   ]
  },
  {
   "cell_type": "code",
   "execution_count": 28,
   "id": "48880ec3",
   "metadata": {},
   "outputs": [
    {
     "name": "stdout",
     "output_type": "stream",
     "text": [
      "Enter the value of a =10\n",
      "Data type of a = <class 'int'>\n",
      "ENter the value of b =20\n",
      "Data type of b = <class 'int'>\n",
      "Data type of c = <class 'int'>\n",
      "Sum of a & b = 30\n"
     ]
    }
   ],
   "source": [
    "a=int(input(\"Enter the value of a =\"))\n",
    "print(\"Data type of a =\",type(a))\n",
    "b=int(input(\"ENter the value of b =\"))\n",
    "print(\"Data type of b =\",type(b))\n",
    "c=a+b\n",
    "print(\"Data type of c =\",type(c))\n",
    "print(\"Sum of a & b =\",c)"
   ]
  },
  {
   "cell_type": "code",
   "execution_count": 29,
   "id": "da861e34",
   "metadata": {},
   "outputs": [
    {
     "name": "stdout",
     "output_type": "stream",
     "text": [
      "Enter the value of a =20.3\n",
      "Data type of a = <class 'float'>\n",
      "ENter the value of b =10\n",
      "Data type of b = <class 'int'>\n",
      "Data type of c = <class 'float'>\n",
      "Sum of a & b = 30.3\n"
     ]
    }
   ],
   "source": [
    "#eval to auto detect\n",
    "\n",
    "a=eval(input(\"Enter the value of a =\"))\n",
    "print(\"Data type of a =\",type(a))\n",
    "b=eval(input(\"ENter the value of b =\"))\n",
    "print(\"Data type of b =\",type(b))\n",
    "c=a+b\n",
    "print(\"Data type of c =\",type(c))\n",
    "print(\"Sum of a & b =\",c)"
   ]
  },
  {
   "cell_type": "code",
   "execution_count": 32,
   "id": "06a8729c",
   "metadata": {},
   "outputs": [
    {
     "name": "stdout",
     "output_type": "stream",
     "text": [
      "1020\n",
      "30\n"
     ]
    }
   ],
   "source": [
    "a=10\n",
    "b=20\n",
    "c=30\n",
    "\n",
    "print(a,end='') #if we don't want interpreter to put \\n after output..we can see message by (shift+tab) after variable a in bracket\n",
    "print(b)\n",
    "print(c)"
   ]
  },
  {
   "cell_type": "code",
   "execution_count": 37,
   "id": "36b19fb9",
   "metadata": {},
   "outputs": [
    {
     "name": "stdout",
     "output_type": "stream",
     "text": [
      "10+++20+++30\n"
     ]
    }
   ],
   "source": [
    "a=10\n",
    "b=20\n",
    "c=30\n",
    "\n",
    "print(a,b,c,sep='+++') #if we don't want interpreter to put space after output..we can see message by (shift+tab) after variable a in bracket"
   ]
  },
  {
   "cell_type": "code",
   "execution_count": null,
   "id": "ec7d487d",
   "metadata": {},
   "outputs": [],
   "source": []
  }
 ],
 "metadata": {
  "kernelspec": {
   "display_name": "Python 3 (ipykernel)",
   "language": "python",
   "name": "python3"
  },
  "language_info": {
   "codemirror_mode": {
    "name": "ipython",
    "version": 3
   },
   "file_extension": ".py",
   "mimetype": "text/x-python",
   "name": "python",
   "nbconvert_exporter": "python",
   "pygments_lexer": "ipython3",
   "version": "3.10.9"
  }
 },
 "nbformat": 4,
 "nbformat_minor": 5
}
