{
 "cells": [
  {
   "cell_type": "code",
   "execution_count": 69,
   "id": "009d1b9b",
   "metadata": {},
   "outputs": [
    {
     "name": "stdout",
     "output_type": "stream",
     "text": [
      "Amit is in the house\n",
      "Amit Is In The House\n",
      "AMIT IS IN THE HOUSE\n",
      "amit is in the house\n",
      "True\n",
      "True\n",
      "True\n",
      "False\n",
      "False\n",
      "True\n",
      "False\n",
      "True\n",
      "Amit kumar\n",
      "    Amit kumar\n",
      "1\n",
      "-1\n",
      "amkt ks kn the house\n"
     ]
    }
   ],
   "source": [
    "x=\"amit is in the house\"\n",
    "print(x.capitalize())\n",
    "print(x.title())\n",
    "print(x.upper())\n",
    "print(x.lower())\n",
    "print(x.startswith(\"amit\"))\n",
    "print(x.endswith(\"house\"))\n",
    "z=\"123ghj\"\n",
    "print(z.isalnum())\n",
    "print(z.isnumeric())\n",
    "print(z.isalpha())\n",
    "\n",
    "a=\"abc\"\n",
    "b=\"abc\"\n",
    "print(a is b)\n",
    "print(a is not b)\n",
    "print(a.isascii())\n",
    "\n",
    "y=\"    Amit kumar\"\n",
    "print(y.strip())\n",
    "print(y)\n",
    "\n",
    "print(x.count(\"i\",0,5))\n",
    "print(x.find('z'))\n",
    "print(x.replace('i','k'))"
   ]
  },
  {
   "cell_type": "markdown",
   "id": "7c0ad374",
   "metadata": {},
   "source": [
    "# split -> string to list\n",
    "\n",
    "# join -> List to string ( list should be only of string)\n",
    "\n",
    "# partition -> string to tuple\n"
   ]
  },
  {
   "cell_type": "code",
   "execution_count": 70,
   "id": "962000cf",
   "metadata": {},
   "outputs": [
    {
     "name": "stdout",
     "output_type": "stream",
     "text": [
      "['amit', 'gmail.com']\n"
     ]
    }
   ],
   "source": [
    "a=\"amit@gmail.com\"\n",
    "print(a.split('@'))"
   ]
  },
  {
   "cell_type": "code",
   "execution_count": 81,
   "id": "9dc656e6",
   "metadata": {},
   "outputs": [
    {
     "name": "stdout",
     "output_type": "stream",
     "text": [
      "amit kumar\n"
     ]
    }
   ],
   "source": [
    "b=['amit','kumar']\n",
    "print(' '.join(b))"
   ]
  },
  {
   "cell_type": "code",
   "execution_count": 93,
   "id": "5760328c",
   "metadata": {},
   "outputs": [
    {
     "name": "stdout",
     "output_type": "stream",
     "text": [
      "enter your name = 'Amit Kumar'\n",
      "enter your reg no = 3456\n",
      "enter your phone = 989999\n",
      "\n",
      "Dear Sir,\n",
      "\n",
      "This is Amit Kumar with registration number 3456 and phone number as 989999.\n",
      "\n",
      "Thanks & Regards,\n",
      "Amit Kumar\n"
     ]
    }
   ],
   "source": [
    "name=eval(input('enter your name = '))\n",
    "reg=eval(input('enter your reg no = '))\n",
    "phne=eval(input('enter your phone = '))\n",
    "\n",
    "print(f\"\\nDear Sir,\\n\\nThis is {name} with registration number {reg} and phone number as {phne}.\\n\\nThanks & Regards,\\n{name}\" )"
   ]
  },
  {
   "cell_type": "markdown",
   "id": "50cba74f",
   "metadata": {},
   "source": []
  }
 ],
 "metadata": {
  "kernelspec": {
   "display_name": "Python 3 (ipykernel)",
   "language": "python",
   "name": "python3"
  },
  "language_info": {
   "codemirror_mode": {
    "name": "ipython",
    "version": 3
   },
   "file_extension": ".py",
   "mimetype": "text/x-python",
   "name": "python",
   "nbconvert_exporter": "python",
   "pygments_lexer": "ipython3",
   "version": "3.10.9"
  }
 },
 "nbformat": 4,
 "nbformat_minor": 5
}
