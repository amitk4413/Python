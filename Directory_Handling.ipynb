{
 "cells": [
  {
   "cell_type": "code",
   "execution_count": 5,
   "id": "4adc62d6",
   "metadata": {},
   "outputs": [
    {
     "name": "stdout",
     "output_type": "stream",
     "text": [
      "C:\\Users\\amitk\\Desktop\\Learnbay\\Python\n",
      "b'C:\\\\Users\\\\amitk\\\\Desktop\\\\Learnbay\\\\Python'\n"
     ]
    }
   ],
   "source": [
    "import os\n",
    "print(os.getcwd())\n",
    "print(os.getcwdb())"
   ]
  },
  {
   "cell_type": "code",
   "execution_count": 8,
   "id": "f730416e",
   "metadata": {},
   "outputs": [
    {
     "ename": "FileExistsError",
     "evalue": "[WinError 183] Cannot create a file when that file already exists: 'file1'",
     "output_type": "error",
     "traceback": [
      "\u001b[1;31m---------------------------------------------------------------------------\u001b[0m",
      "\u001b[1;31mFileExistsError\u001b[0m                           Traceback (most recent call last)",
      "Cell \u001b[1;32mIn[8], line 1\u001b[0m\n\u001b[1;32m----> 1\u001b[0m \u001b[43mos\u001b[49m\u001b[38;5;241;43m.\u001b[39;49m\u001b[43mmkdir\u001b[49m\u001b[43m(\u001b[49m\u001b[38;5;124;43m'\u001b[39;49m\u001b[38;5;124;43mfile1\u001b[39;49m\u001b[38;5;124;43m'\u001b[39;49m\u001b[43m)\u001b[49m\n\u001b[0;32m      2\u001b[0m os\u001b[38;5;241m.\u001b[39mlistdir()\n",
      "\u001b[1;31mFileExistsError\u001b[0m: [WinError 183] Cannot create a file when that file already exists: 'file1'"
     ]
    }
   ],
   "source": [
    "os.mkdir('file1')\n"
   ]
  },
  {
   "cell_type": "code",
   "execution_count": 9,
   "id": "b98a8409",
   "metadata": {},
   "outputs": [
    {
     "data": {
      "text/plain": [
       "['.git',\n",
       " '.ipynb_checkpoints',\n",
       " 'assignment',\n",
       " 'Dictionary.ipynb',\n",
       " 'Directory_Handling.ipynb',\n",
       " 'Exception_Handling.ipynb',\n",
       " 'file1',\n",
       " 'File_Handling.ipynb',\n",
       " 'first_file',\n",
       " 'first_module.py',\n",
       " 'Function.ipynb',\n",
       " 'integer_related.ipynb',\n",
       " 'List.ipynb',\n",
       " 'Local_Global_Variable.ipynb',\n",
       " 'Practice.ipynb',\n",
       " 'Set_Data_Type.ipynb',\n",
       " 'string.ipynb',\n",
       " 'test_new.txt',\n",
       " 'test_new.txt.bak',\n",
       " 'Tuple.ipynb',\n",
       " '__pycache__']"
      ]
     },
     "execution_count": 9,
     "metadata": {},
     "output_type": "execute_result"
    }
   ],
   "source": [
    "os.listdir()"
   ]
  },
  {
   "cell_type": "code",
   "execution_count": 11,
   "id": "6ddc2c99",
   "metadata": {},
   "outputs": [],
   "source": [
    "os.mkdir('D:/file')"
   ]
  },
  {
   "cell_type": "code",
   "execution_count": 15,
   "id": "695abb46",
   "metadata": {},
   "outputs": [
    {
     "data": {
      "text/plain": [
       "['.git',\n",
       " '.ipynb_checkpoints',\n",
       " 'assignment',\n",
       " 'Dictionary.ipynb',\n",
       " 'Directory_Handling.ipynb',\n",
       " 'Exception_Handling.ipynb',\n",
       " 'File_Handling.ipynb',\n",
       " 'first_file',\n",
       " 'first_module.py',\n",
       " 'Function.ipynb',\n",
       " 'integer_related.ipynb',\n",
       " 'List.ipynb',\n",
       " 'Local_Global_Variable.ipynb',\n",
       " 'Practice.ipynb',\n",
       " 'Set_Data_Type.ipynb',\n",
       " 'string.ipynb',\n",
       " 'test_new.txt',\n",
       " 'test_new.txt.bak',\n",
       " 'Tuple.ipynb',\n",
       " '__pycache__']"
      ]
     },
     "execution_count": 15,
     "metadata": {},
     "output_type": "execute_result"
    }
   ],
   "source": [
    "dir_list=os.listdir('file1')\n",
    "if len(dir_list)!=0:\n",
    "    print(\"Directory is not empty\")\n",
    "else:\n",
    "    os.rmdir('file1')\n",
    "os.listdir(os.getcwd())"
   ]
  },
  {
   "cell_type": "code",
   "execution_count": 17,
   "id": "64ae67e7",
   "metadata": {},
   "outputs": [
    {
     "data": {
      "text/plain": [
       "True"
      ]
     },
     "execution_count": 17,
     "metadata": {},
     "output_type": "execute_result"
    }
   ],
   "source": [
    "os.path.isdir(os.getcwd())"
   ]
  },
  {
   "cell_type": "code",
   "execution_count": 18,
   "id": "a6b211b8",
   "metadata": {},
   "outputs": [
    {
     "data": {
      "text/plain": [
       "8192"
      ]
     },
     "execution_count": 18,
     "metadata": {},
     "output_type": "execute_result"
    }
   ],
   "source": [
    "os.path.getsize(os.getcwd())"
   ]
  },
  {
   "cell_type": "code",
   "execution_count": 27,
   "id": "17cb95d3",
   "metadata": {},
   "outputs": [
    {
     "name": "stdout",
     "output_type": "stream",
     "text": [
      "2023-08-10 15:56:14.310216\n",
      "2023-08-10 03:56 PM\n"
     ]
    }
   ],
   "source": [
    "import datetime as dt\n",
    "import os\n",
    "print(dt.datetime.fromtimestamp(os.path.getatime(os.getcwd())))\n",
    "print(dt.datetime.fromtimestamp(os.path.getatime(os.getcwd())).strftime('%Y-%m-%d %I:%M %p'))"
   ]
  },
  {
   "cell_type": "code",
   "execution_count": 23,
   "id": "9c26eced",
   "metadata": {},
   "outputs": [
    {
     "data": {
      "text/plain": [
       "'C:\\\\Users\\\\amitk\\\\Desktop\\\\Learnbay\\\\Python'"
      ]
     },
     "execution_count": 23,
     "metadata": {},
     "output_type": "execute_result"
    }
   ],
   "source": [
    "os.getcwd()"
   ]
  },
  {
   "cell_type": "code",
   "execution_count": 61,
   "id": "18c71270",
   "metadata": {},
   "outputs": [
    {
     "name": "stdout",
     "output_type": "stream",
     "text": [
      "Current working directory = C:\\Users\\amitk\\Desktop\\Learnbay\\Python\n",
      "List of files with current working directory = ['.git', '.ipynb_checkpoints', 'amit_file', 'assignment', 'Dictionary.ipynb', 'Directory_Handling.ipynb', 'Exception_Handling.ipynb', 'File_Handling.ipynb', 'first_file', 'first_module.py', 'Function.ipynb', 'integer_related.ipynb', 'List.ipynb', 'Local_Global_Variable.ipynb', 'newfile', 'Practice.ipynb', 'Set_Data_Type.ipynb', 'string.ipynb', 'test_new.txt', 'test_new.txt.bak', 'Tuple.ipynb', '__pycache__']\n",
      "Current working directory = C:\\Users\\amitk\\Desktop\\Learnbay\\Python\n",
      "Directory not empty\n",
      "8192\n"
     ]
    },
    {
     "data": {
      "text/plain": [
       "'23-08-10 08:22 PM'"
      ]
     },
     "execution_count": 61,
     "metadata": {},
     "output_type": "execute_result"
    }
   ],
   "source": [
    "import os,datetime as dt\n",
    "print(\"Current working directory =\",os.getcwd())\n",
    "#os.mkdir('file1')\n",
    "print(\"List of files with current working directory =\",os.listdir())\n",
    "#os.chdir('file1')\n",
    "print(\"Current working directory =\",os.getcwd())\n",
    "f=open('newfile','w')\n",
    "f.close()\n",
    "os.listdir(os.getcwd())\n",
    "os.chdir('C:\\\\Users\\\\amitk\\\\Desktop\\\\Learnbay\\\\Python')\n",
    "os.listdir(os.getcwd())\n",
    "#os.rename('file1','amit_file')\n",
    "os.listdir(os.getcwd())\n",
    "os.path.isdir('amit_file')\n",
    "if len(os.listdir('amit_file')) !=0:\n",
    "    print('Directory not empty')\n",
    "else:\n",
    "    print('Directory empty')\n",
    "print(os.path.getsize(os.getcwd()))\n",
    "dt.datetime.fromtimestamp(os.path.getatime(os.getcwd())).strftime('%y-%m-%d %I:%M %p')"
   ]
  },
  {
   "cell_type": "code",
   "execution_count": null,
   "id": "6105a73b",
   "metadata": {},
   "outputs": [],
   "source": []
  }
 ],
 "metadata": {
  "kernelspec": {
   "display_name": "Python 3 (ipykernel)",
   "language": "python",
   "name": "python3"
  },
  "language_info": {
   "codemirror_mode": {
    "name": "ipython",
    "version": 3
   },
   "file_extension": ".py",
   "mimetype": "text/x-python",
   "name": "python",
   "nbconvert_exporter": "python",
   "pygments_lexer": "ipython3",
   "version": "3.10.9"
  }
 },
 "nbformat": 4,
 "nbformat_minor": 5
}
