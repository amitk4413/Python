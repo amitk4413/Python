{
 "cells": [
  {
   "cell_type": "markdown",
   "id": "9fb08c48",
   "metadata": {},
   "source": [
    "# try-except"
   ]
  },
  {
   "cell_type": "code",
   "execution_count": 3,
   "id": "636cb18d",
   "metadata": {},
   "outputs": [
    {
     "name": "stdout",
     "output_type": "stream",
     "text": [
      "enter the first number:- 10\n",
      "enter the second number:- amit\n",
      "Something not right\n"
     ]
    }
   ],
   "source": [
    "try:\n",
    "    a=int(input('enter the first number:- '))\n",
    "    b=int(input('enter the second number:- '))\n",
    "    c=a/b\n",
    "    print(c)\n",
    "except:\n",
    "    print(\"Something not right\")"
   ]
  },
  {
   "cell_type": "markdown",
   "id": "14824806",
   "metadata": {},
   "source": [
    "# else:"
   ]
  },
  {
   "cell_type": "code",
   "execution_count": 4,
   "id": "e1120264",
   "metadata": {},
   "outputs": [
    {
     "name": "stdout",
     "output_type": "stream",
     "text": [
      "enter the first number:- 4\n",
      "enter the second number:- 2\n",
      "2.0\n",
      "****************************************************************************************************\n"
     ]
    }
   ],
   "source": [
    "try:\n",
    "    a=int(input('enter the first number:- '))\n",
    "    b=int(input('enter the second number:- '))\n",
    "    c=a/b\n",
    "except:\n",
    "    print(\"Something not right\")\n",
    "\n",
    "#print(c) # name 'c' is not defined -- To handle this use \"else:\"\n",
    "else:\n",
    "    print(c)\n",
    "    \n",
    "print('**'*50)"
   ]
  },
  {
   "cell_type": "markdown",
   "id": "83d624b1",
   "metadata": {},
   "source": [
    "# finally:"
   ]
  },
  {
   "cell_type": "code",
   "execution_count": 7,
   "id": "5d1e900f",
   "metadata": {},
   "outputs": [
    {
     "name": "stdout",
     "output_type": "stream",
     "text": [
      "enter the first number:- 4\n",
      "enter the second number:- 2\n",
      "run hoke rahega chahe kahi bhi error ho ya na hoa\n",
      "****************************************************************************************************\n"
     ]
    }
   ],
   "source": [
    "try:\n",
    "    a=int(input('enter the first number:- '))\n",
    "    b=int(input('enter the second number:- '))\n",
    "    c=a/b\n",
    "except:\n",
    "    print(\"Something not right\")\n",
    "\n",
    "#print(c) # name 'c' is not defined -- To handle this use \"else:\"\n",
    "finally:\n",
    "    print(\"run hoke rahega chahe kahi bhi error ho ya na hoa\")\n",
    "    \n",
    "print('**'*50)"
   ]
  },
  {
   "cell_type": "markdown",
   "id": "4f2feeb5",
   "metadata": {},
   "source": [
    "# raise: it helps to write user defined exception\n",
    "\n",
    "#### NOTE : - RAISE SHOULD BE CALLED BEFORE ERROR IS GOING TO OCCUR"
   ]
  },
  {
   "cell_type": "code",
   "execution_count": 16,
   "id": "d12eb591",
   "metadata": {},
   "outputs": [
    {
     "name": "stdout",
     "output_type": "stream",
     "text": [
      "enter the first number:- 4\n",
      "enter the second number:- 2\n",
      "error is there\n"
     ]
    }
   ],
   "source": [
    "class myexception(Exception):\n",
    "    def __init__(self,msg):\n",
    "        self.msg=msg\n",
    "\n",
    "a=int(input('enter the first number:- '))\n",
    "b=int(input('enter the second number:- '))\n",
    "try:\n",
    "    c=a/b\n",
    "    raise myexception('error is there')\n",
    "    \n",
    "except Exception as e:\n",
    "    print(e)"
   ]
  },
  {
   "cell_type": "code",
   "execution_count": 22,
   "id": "b618e113",
   "metadata": {},
   "outputs": [
    {
     "name": "stdout",
     "output_type": "stream",
     "text": [
      "enter the amount :-90000\n",
      "Amount exceeded the limit\n"
     ]
    }
   ],
   "source": [
    "class myexception(Exception):\n",
    "    def __init__(self,mesg):\n",
    "        self.mesg=mesg\n",
    "amt=int(input('enter the amount :-'))\n",
    "try:\n",
    "    if(amt>900):\n",
    "              raise myexception('Amount exceeded the limit')\n",
    "    else:\n",
    "              print(\"amount transferred\")\n",
    "except Exception as e:\n",
    "    print(e)"
   ]
  },
  {
   "cell_type": "code",
   "execution_count": 2,
   "id": "7de953e6",
   "metadata": {},
   "outputs": [
    {
     "name": "stdout",
     "output_type": "stream",
     "text": [
      "enter the amount :-32\n",
      "Amount less than 50\n"
     ]
    }
   ],
   "source": [
    "class mynewexception(Exception):\n",
    "    def __init__(self,mesg):\n",
    "        self.mesg=mesg\n",
    "amt=int(input('enter the amount :-'))        \n",
    "try:\n",
    "    if amt < 50:\n",
    "        raise mynewexception(\"Amount less than 50\")\n",
    "    else:\n",
    "        print(\"Amount is ok\")\n",
    "except Exception as e:\n",
    "    print(e)\n",
    "    "
   ]
  },
  {
   "cell_type": "markdown",
   "id": "8d0b6581",
   "metadata": {},
   "source": [
    "# System defined exception"
   ]
  },
  {
   "cell_type": "code",
   "execution_count": 26,
   "id": "7216090b",
   "metadata": {},
   "outputs": [
    {
     "name": "stdout",
     "output_type": "stream",
     "text": [
      "enter first number =1\n",
      "enter second number =amit\n",
      "invalid literal for int() with base 10: 'amit'\n",
      "hello\n"
     ]
    }
   ],
   "source": [
    "try:\n",
    "    a=int(input('enter first number ='))\n",
    "    b=int(input('enter second number ='))\n",
    "    c=a/b\n",
    "except Exception as e:\n",
    "    print(e)\n",
    "print('hello')"
   ]
  },
  {
   "cell_type": "code",
   "execution_count": 27,
   "id": "832b5c02",
   "metadata": {},
   "outputs": [
    {
     "name": "stdout",
     "output_type": "stream",
     "text": [
      "['In', 'Out', '_', '__', '___', '__builtin__', '__builtins__', '__doc__', '__loader__', '__name__', '__package__', '__spec__', '_dh', '_i', '_i1', '_i10', '_i11', '_i12', '_i13', '_i14', '_i15', '_i16', '_i17', '_i18', '_i19', '_i2', '_i20', '_i21', '_i22', '_i23', '_i24', '_i25', '_i26', '_i27', '_i3', '_i4', '_i5', '_i6', '_i7', '_i8', '_i9', '_ih', '_ii', '_iii', '_oh', 'a', 'amt', 'b', 'c', 'exit', 'get_ipython', 'myexception', 'open', 'quit']\n"
     ]
    }
   ],
   "source": [
    "print(dir())"
   ]
  },
  {
   "cell_type": "code",
   "execution_count": 28,
   "id": "a24de0a7",
   "metadata": {},
   "outputs": [
    {
     "name": "stdout",
     "output_type": "stream",
     "text": [
      "['ArithmeticError', 'AssertionError', 'AttributeError', 'BaseException', 'BlockingIOError', 'BrokenPipeError', 'BufferError', 'BytesWarning', 'ChildProcessError', 'ConnectionAbortedError', 'ConnectionError', 'ConnectionRefusedError', 'ConnectionResetError', 'DeprecationWarning', 'EOFError', 'Ellipsis', 'EncodingWarning', 'EnvironmentError', 'Exception', 'False', 'FileExistsError', 'FileNotFoundError', 'FloatingPointError', 'FutureWarning', 'GeneratorExit', 'IOError', 'ImportError', 'ImportWarning', 'IndentationError', 'IndexError', 'InterruptedError', 'IsADirectoryError', 'KeyError', 'KeyboardInterrupt', 'LookupError', 'MemoryError', 'ModuleNotFoundError', 'NameError', 'None', 'NotADirectoryError', 'NotImplemented', 'NotImplementedError', 'OSError', 'OverflowError', 'PendingDeprecationWarning', 'PermissionError', 'ProcessLookupError', 'RecursionError', 'ReferenceError', 'ResourceWarning', 'RuntimeError', 'RuntimeWarning', 'StopAsyncIteration', 'StopIteration', 'SyntaxError', 'SyntaxWarning', 'SystemError', 'SystemExit', 'TabError', 'TimeoutError', 'True', 'TypeError', 'UnboundLocalError', 'UnicodeDecodeError', 'UnicodeEncodeError', 'UnicodeError', 'UnicodeTranslateError', 'UnicodeWarning', 'UserWarning', 'ValueError', 'Warning', 'WindowsError', 'ZeroDivisionError', '__IPYTHON__', '__build_class__', '__debug__', '__doc__', '__import__', '__loader__', '__name__', '__package__', '__spec__', 'abs', 'aiter', 'all', 'anext', 'any', 'ascii', 'bin', 'bool', 'breakpoint', 'bytearray', 'bytes', 'callable', 'chr', 'classmethod', 'compile', 'complex', 'copyright', 'credits', 'delattr', 'dict', 'dir', 'display', 'divmod', 'enumerate', 'eval', 'exec', 'execfile', 'filter', 'float', 'format', 'frozenset', 'get_ipython', 'getattr', 'globals', 'hasattr', 'hash', 'help', 'hex', 'id', 'input', 'int', 'isinstance', 'issubclass', 'iter', 'len', 'license', 'list', 'locals', 'map', 'max', 'memoryview', 'min', 'next', 'object', 'oct', 'open', 'ord', 'pow', 'print', 'property', 'range', 'repr', 'reversed', 'round', 'runfile', 'set', 'setattr', 'slice', 'sorted', 'staticmethod', 'str', 'sum', 'super', 'tuple', 'type', 'vars', 'zip']\n"
     ]
    }
   ],
   "source": [
    "print(dir(__builtins__))"
   ]
  },
  {
   "cell_type": "code",
   "execution_count": 32,
   "id": "e119286d",
   "metadata": {},
   "outputs": [
    {
     "name": "stdout",
     "output_type": "stream",
     "text": [
      "enter first number =ami\n",
      "invalid literal for int() with base 10: 'ami'\n",
      "hello\n"
     ]
    }
   ],
   "source": [
    "try:\n",
    "    a=int(input('enter first number ='))\n",
    "    b=int(input('enter second number ='))\n",
    "    c=a/b\n",
    "except TypeError:\n",
    "    print('Type Error')\n",
    "except ZeroDivisionError:\n",
    "    print('Denominator is 0')\n",
    "except Exception as e:\n",
    "    print(e)\n",
    "print('hello')"
   ]
  },
  {
   "cell_type": "markdown",
   "id": "9771b198",
   "metadata": {},
   "source": [
    "# Use case :- put functionality specific excption budled with function"
   ]
  },
  {
   "cell_type": "code",
   "execution_count": 39,
   "id": "0ae811fc",
   "metadata": {},
   "outputs": [
    {
     "name": "stdout",
     "output_type": "stream",
     "text": [
      "hello\n",
      "Enterd PAN is not valid\n"
     ]
    }
   ],
   "source": [
    "class myexception(Exception):\n",
    "    def __init__(self,mesg):\n",
    "        self.mesg=mesg\n",
    "        \n",
    "def pan(pan_num):\n",
    "    try:\n",
    "        if len(pan_num)==10:\n",
    "            print('Valid PAN')\n",
    "        else:\n",
    "            raise myexception(\"Enterd PAN is not valid\")\n",
    "    except Exception as e:\n",
    "        print(e)\n",
    "print('hello')\n",
    "\n",
    "pan('lkdsnlckndlkclkndkn')"
   ]
  },
  {
   "cell_type": "markdown",
   "id": "6642d5cb",
   "metadata": {},
   "source": [
    "# Error Logging"
   ]
  },
  {
   "cell_type": "code",
   "execution_count": 5,
   "id": "f184726a",
   "metadata": {},
   "outputs": [
    {
     "name": "stdout",
     "output_type": "stream",
     "text": [
      "Enter the amount =23\n",
      "Error is = paisa 50 rupiya se kam hai\n"
     ]
    }
   ],
   "source": [
    "import logging\n",
    "logging.basicConfig(filename=\"myerrorfile.txt\",level=logging.ERROR)\n",
    "class fund_except(Exception):\n",
    "        def __init__(self,msg):\n",
    "            self.msg=msg\n",
    "amt=int(input(\"Enter the amount =\"))\n",
    "try:\n",
    "    if amt<50:\n",
    "        raise fund_except (\"paisa 50 rupiya se kam hai\")\n",
    "    else:\n",
    "        print(\"gaya pasisa aapke account mein\")\n",
    "except Exception as e:\n",
    "    print(\"Error is =\",e)\n",
    "    logging.exception(e)\n",
    "    "
   ]
  },
  {
   "cell_type": "code",
   "execution_count": null,
   "id": "7062397f",
   "metadata": {},
   "outputs": [],
   "source": []
  }
 ],
 "metadata": {
  "kernelspec": {
   "display_name": "Python 3 (ipykernel)",
   "language": "python",
   "name": "python3"
  },
  "language_info": {
   "codemirror_mode": {
    "name": "ipython",
    "version": 3
   },
   "file_extension": ".py",
   "mimetype": "text/x-python",
   "name": "python",
   "nbconvert_exporter": "python",
   "pygments_lexer": "ipython3",
   "version": "3.10.9"
  }
 },
 "nbformat": 4,
 "nbformat_minor": 5
}
