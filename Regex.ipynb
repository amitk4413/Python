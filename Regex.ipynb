{
 "cells": [
  {
   "cell_type": "code",
   "execution_count": 33,
   "id": "5387e0d2",
   "metadata": {},
   "outputs": [
    {
     "data": {
      "text/plain": [
       "[<re.Match object; span=(3, 6), match=' fl'>,\n",
       " <re.Match object; span=(6, 9), match='ow '>,\n",
       " <re.Match object; span=(9, 12), match='flo'>,\n",
       " <re.Match object; span=(12, 15), match='wer'>,\n",
       " <re.Match object; span=(15, 18), match=' fl'>,\n",
       " <re.Match object; span=(18, 21), match='owe'>]"
      ]
     },
     "execution_count": 33,
     "metadata": {},
     "output_type": "execute_result"
    }
   ],
   "source": [
    "import re\n",
    "sent=\"123 flow flower flowery\"\n",
    "pattern=re.compile(r'\\D\\D\\D')\n",
    "matches=pattern.finditer(sent)\n",
    "list(matches)"
   ]
  },
  {
   "cell_type": "code",
   "execution_count": 37,
   "id": "1f414449",
   "metadata": {},
   "outputs": [
    {
     "name": "stdout",
     "output_type": "stream",
     "text": [
      "['1', '2', '3', ' ', 'f', 'l', 'o', 'w', ' ', 'f', 'l', 'o', 'w', 'e', 'r', ' ', 'f', 'l', 'o', 'w', 'e', 'r', 'y', ' ', ' ', ' ', ' ', ' ', ' ', '3', '4', '5', ' ', 'c', 'a', 't', ' ', 'c', 'a', 't', 'c', 'h', ' ', 'c', 'a', 't', 'c', 'h', 'y', ' ', 's', 'c', 'a', 't', 't', 'h']\n",
      "['12', '34']\n",
      "[' fl', 'ow ', 'flo', 'wer', ' fl', 'owe', 'ry\\n', '   ', '   ', ' ca', 't c', 'atc', 'h c', 'atc', 'hy ', 'sca', 'tth']\n",
      "[]\n"
     ]
    }
   ],
   "source": [
    "import re\n",
    "sent='''123 flow flower flowery\n",
    "      345 cat catch catchy scatth'''\n",
    "print(re.findall(\".\",sent))\n",
    "print(re.findall(\"\\d\\d\",sent))\n",
    "print(re.findall(\"\\D\\D\\D\",sent))\n",
    "print(re.findall(\"\\bcat\",sent))"
   ]
  },
  {
   "cell_type": "code",
   "execution_count": 40,
   "id": "db8d9286",
   "metadata": {},
   "outputs": [
    {
     "name": "stdout",
     "output_type": "stream",
     "text": [
      "['cat', 'cat', 'cat']\n",
      "['cat']\n"
     ]
    }
   ],
   "source": [
    "import re\n",
    "sent='''123 flow flower flowery\n",
    "      345 cat catch catchy scatth'''\n",
    "print(re.findall(r\"\\bcat\",sent))\n",
    "print(re.findall(r\"cat\\b\",sent))"
   ]
  },
  {
   "cell_type": "code",
   "execution_count": 45,
   "id": "b36031ba",
   "metadata": {},
   "outputs": [
    {
     "name": "stdout",
     "output_type": "stream",
     "text": [
      "['catc', 'catc', 'catt']\n",
      "['cat', 'cat', 'cat', 'catt']\n"
     ]
    }
   ],
   "source": [
    "import re\n",
    "sent='''123 flow flower flowery 333.333.333\n",
    "      345 cat catch catchy scatth'''\n",
    "print(re.findall(r\"cat\\w\",sent))\n",
    "print(re.findall(r\"cat+\",sent))"
   ]
  },
  {
   "cell_type": "code",
   "execution_count": 51,
   "id": "38c2e4bf",
   "metadata": {},
   "outputs": [
    {
     "name": "stdout",
     "output_type": "stream",
     "text": [
      "[]\n",
      "[]\n",
      "['123']\n",
      "['tth']\n"
     ]
    }
   ],
   "source": [
    "import re\n",
    "sent='''123 flow flower flowery\n",
    "      345 cat catch catchy scatth'''\n",
    "print(re.findall(r\"^cat\",sent))\n",
    "print(re.findall(r\"cat$\",sent))\n",
    "print(re.findall(r\"^123\",sent))\n",
    "print(re.findall(r\"tth$\",sent))"
   ]
  },
  {
   "cell_type": "code",
   "execution_count": 54,
   "id": "147cdb72",
   "metadata": {},
   "outputs": [
    {
     "name": "stdout",
     "output_type": "stream",
     "text": [
      "['333.333.333']\n"
     ]
    }
   ],
   "source": [
    "import re\n",
    "sent='''123 flow flower flowery 333.333.333\n",
    "      345 cat catch catchy scatth'''\n",
    "print(re.findall(r\"\\d\\d\\d\\.\\d\\d\\d\\.\\d\\d\\d\",sent))"
   ]
  },
  {
   "cell_type": "code",
   "execution_count": 61,
   "id": "ed6ea1c3",
   "metadata": {},
   "outputs": [
    {
     "name": "stdout",
     "output_type": "stream",
     "text": [
      "['cat', 'cat', 'c', 'cat', 'c', 'cat']\n"
     ]
    }
   ],
   "source": [
    "import re\n",
    "sent='''123 flow flower flowery 333.333.333\n",
    "      345 cat catch catchy scatth'''\n",
    "print(re.findall(r\"cat|ca*\",sent))"
   ]
  },
  {
   "cell_type": "code",
   "execution_count": null,
   "id": "63c2d987",
   "metadata": {},
   "outputs": [],
   "source": []
  }
 ],
 "metadata": {
  "kernelspec": {
   "display_name": "Python 3 (ipykernel)",
   "language": "python",
   "name": "python3"
  },
  "language_info": {
   "codemirror_mode": {
    "name": "ipython",
    "version": 3
   },
   "file_extension": ".py",
   "mimetype": "text/x-python",
   "name": "python",
   "nbconvert_exporter": "python",
   "pygments_lexer": "ipython3",
   "version": "3.10.9"
  }
 },
 "nbformat": 4,
 "nbformat_minor": 5
}
