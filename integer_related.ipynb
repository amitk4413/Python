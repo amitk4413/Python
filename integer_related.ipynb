{
 "cells": [
  {
   "cell_type": "code",
   "execution_count": 1,
   "id": "2928b394",
   "metadata": {},
   "outputs": [
    {
     "name": "stdout",
     "output_type": "stream",
     "text": [
      "30\n"
     ]
    }
   ],
   "source": [
    "#Addition\n",
    "\n",
    "a=10\n",
    "b=20\n",
    "print(a+b)  # a new object will be created hence , print will display value"
   ]
  },
  {
   "cell_type": "code",
   "execution_count": 2,
   "id": "a7110f77",
   "metadata": {},
   "outputs": [
    {
     "name": "stdout",
     "output_type": "stream",
     "text": [
      "-10\n"
     ]
    }
   ],
   "source": [
    "#Substraction\n",
    "\n",
    "a=10\n",
    "b=20\n",
    "print(a-b)  # a new object will be created hence , print will display value"
   ]
  },
  {
   "cell_type": "code",
   "execution_count": 3,
   "id": "0f36da40",
   "metadata": {},
   "outputs": [
    {
     "name": "stdout",
     "output_type": "stream",
     "text": [
      "200\n"
     ]
    }
   ],
   "source": [
    "#multiplication\n",
    "\n",
    "a=10\n",
    "b=20\n",
    "print(a*b)  # a new object will be created hence , print will display value"
   ]
  },
  {
   "cell_type": "code",
   "execution_count": 4,
   "id": "dfbdf1f2",
   "metadata": {},
   "outputs": [
    {
     "name": "stdout",
     "output_type": "stream",
     "text": [
      "100000000000000000000\n"
     ]
    }
   ],
   "source": [
    "#squarring a to the bower be\n",
    "\n",
    "a=10\n",
    "b=20\n",
    "print(a**b)  # a new object will be created hence , print will display value"
   ]
  },
  {
   "cell_type": "code",
   "execution_count": 5,
   "id": "d45af682",
   "metadata": {},
   "outputs": [
    {
     "name": "stdout",
     "output_type": "stream",
     "text": [
      "13.333333333333334\n"
     ]
    }
   ],
   "source": [
    "#Float division (+)\n",
    "\n",
    "a=40\n",
    "b=3\n",
    "print(a/b)  # a new object will be created hence , print will display value"
   ]
  },
  {
   "cell_type": "code",
   "execution_count": 8,
   "id": "dda3bdb9",
   "metadata": {},
   "outputs": [
    {
     "name": "stdout",
     "output_type": "stream",
     "text": [
      "-13.333333333333334\n"
     ]
    }
   ],
   "source": [
    "#Float division (-numerator)\n",
    "\n",
    "a=-40\n",
    "b=3\n",
    "print(a/b)  # a new object will be created hence , print will display value"
   ]
  },
  {
   "cell_type": "code",
   "execution_count": 9,
   "id": "8f99994b",
   "metadata": {},
   "outputs": [
    {
     "name": "stdout",
     "output_type": "stream",
     "text": [
      "-13.333333333333334\n"
     ]
    }
   ],
   "source": [
    "#Float division (-denomnator)\n",
    "\n",
    "a=40\n",
    "b=-3\n",
    "print(a/b)  # a new object will be created hence , print will display value"
   ]
  },
  {
   "cell_type": "code",
   "execution_count": 10,
   "id": "1ea3dea4",
   "metadata": {},
   "outputs": [
    {
     "name": "stdout",
     "output_type": "stream",
     "text": [
      "13.333333333333334\n"
     ]
    }
   ],
   "source": [
    "#Float division (-numverator and -denomnator)\n",
    "\n",
    "a=-40\n",
    "b=-3\n",
    "print(a/b)  # a new object will be created hence , print will display value"
   ]
  },
  {
   "cell_type": "code",
   "execution_count": 15,
   "id": "1bf36916",
   "metadata": {},
   "outputs": [
    {
     "name": "stdout",
     "output_type": "stream",
     "text": [
      "5\n"
     ]
    }
   ],
   "source": [
    "#Float division (+)\n",
    "\n",
    "a=17\n",
    "b=3\n",
    "print(a//b)  # a new object will be created hence , print will display value"
   ]
  },
  {
   "cell_type": "code",
   "execution_count": 14,
   "id": "aa38a4ae",
   "metadata": {},
   "outputs": [
    {
     "name": "stdout",
     "output_type": "stream",
     "text": [
      "-6\n"
     ]
    }
   ],
   "source": [
    "#Floor division (-ve numerator)\n",
    "\n",
    "a=-17\n",
    "b=3\n",
    "print(a//b)  # a new object will be created hence , print will display value"
   ]
  },
  {
   "cell_type": "code",
   "execution_count": 13,
   "id": "3274d526",
   "metadata": {},
   "outputs": [
    {
     "name": "stdout",
     "output_type": "stream",
     "text": [
      "-6\n"
     ]
    }
   ],
   "source": [
    "#Floor division (-ve denominator)\n",
    "\n",
    "a=17\n",
    "b=-3\n",
    "print(a//b)  # a new object will be created hence , print will display value"
   ]
  },
  {
   "cell_type": "code",
   "execution_count": 16,
   "id": "32eaf202",
   "metadata": {},
   "outputs": [
    {
     "name": "stdout",
     "output_type": "stream",
     "text": [
      "5\n"
     ]
    }
   ],
   "source": [
    "#Floor division (both -ve)\n",
    "\n",
    "a=-17\n",
    "b=-3\n",
    "print(a//b)  # a new object will be created hence , print will display value"
   ]
  },
  {
   "cell_type": "code",
   "execution_count": 17,
   "id": "5fd19cf5",
   "metadata": {},
   "outputs": [
    {
     "name": "stdout",
     "output_type": "stream",
     "text": [
      "2\n"
     ]
    }
   ],
   "source": [
    "#Modulus division (+ve)\n",
    "\n",
    "a=17\n",
    "b=3\n",
    "print(a%b)  # a new object will be created hence , print will display value"
   ]
  },
  {
   "cell_type": "code",
   "execution_count": 18,
   "id": "c90fd5d1",
   "metadata": {},
   "outputs": [
    {
     "name": "stdout",
     "output_type": "stream",
     "text": [
      "1\n"
     ]
    }
   ],
   "source": [
    "#Modulus division (-ve numerator)\n",
    "\n",
    "a=-17\n",
    "b=3\n",
    "print(a%b)  # a new object will be created hence , print will display value"
   ]
  },
  {
   "cell_type": "code",
   "execution_count": 19,
   "id": "ab6a51cc",
   "metadata": {},
   "outputs": [
    {
     "name": "stdout",
     "output_type": "stream",
     "text": [
      "-1\n"
     ]
    }
   ],
   "source": [
    "#Modulus division (-ve denominator)\n",
    "\n",
    "a=17\n",
    "b=-3\n",
    "print(a%b)  # a new object will be created hence , print will display value"
   ]
  },
  {
   "cell_type": "code",
   "execution_count": 20,
   "id": "05d5ead5",
   "metadata": {},
   "outputs": [
    {
     "name": "stdout",
     "output_type": "stream",
     "text": [
      "-2\n"
     ]
    }
   ],
   "source": [
    "#Modulus division (both -ve)\n",
    "\n",
    "a=-17\n",
    "b=-3\n",
    "print(a%b)  # a new object will be created hence , print will display value"
   ]
  },
  {
   "cell_type": "code",
   "execution_count": 25,
   "id": "c3cf5584",
   "metadata": {},
   "outputs": [
    {
     "name": "stdout",
     "output_type": "stream",
     "text": [
      "Enter first number :-30\n",
      "Enter second number :-30\n",
      "a is equal to b\n"
     ]
    }
   ],
   "source": [
    "#ternary operator \n",
    "a=eval(input('Enter first number :-' )) \n",
    "b=eval(input('Enter second number :-' ))\n",
    "\n",
    "print('a is greater than b' if a>b else 'a is lesser than b' if a<b else 'a is equal to b')\n",
    "             "
   ]
  },
  {
   "cell_type": "code",
   "execution_count": 34,
   "id": "c81fd89b",
   "metadata": {},
   "outputs": [
    {
     "name": "stdout",
     "output_type": "stream",
     "text": [
      "True\n"
     ]
    }
   ],
   "source": [
    "#identifiers (works only with A-Z a-z digites from -5 to -256 & _)\n",
    "a=233\n",
    "b=233\n",
    "print(a is b)"
   ]
  }
 ],
 "metadata": {
  "kernelspec": {
   "display_name": "Python 3 (ipykernel)",
   "language": "python",
   "name": "python3"
  },
  "language_info": {
   "codemirror_mode": {
    "name": "ipython",
    "version": 3
   },
   "file_extension": ".py",
   "mimetype": "text/x-python",
   "name": "python",
   "nbconvert_exporter": "python",
   "pygments_lexer": "ipython3",
   "version": "3.10.9"
  }
 },
 "nbformat": 4,
 "nbformat_minor": 5
}
