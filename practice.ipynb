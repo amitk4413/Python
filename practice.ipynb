{
 "cells": [
  {
   "cell_type": "code",
   "execution_count": 19,
   "id": "fe4183f6",
   "metadata": {},
   "outputs": [
    {
     "name": "stdout",
     "output_type": "stream",
     "text": [
      "{1, 2, 3, 4, 5}\n",
      "{1, 2}\n",
      "True\n",
      "False\n",
      "False\n",
      "{1, 2}\n",
      "{1, 2, 3, 4, 5}\n",
      "{3, 4, 5}\n",
      "{3, 4, 5}\n"
     ]
    },
    {
     "data": {
      "text/plain": [
       "{3, 4, 5}"
      ]
     },
     "execution_count": 19,
     "metadata": {},
     "output_type": "execute_result"
    }
   ],
   "source": [
    "a={1,1,2,2,3,4,5,5}\n",
    "b={1,2}\n",
    "print(a)\n",
    "print(b)\n",
    "print(a.issuperset(b))\n",
    "print(a.issubset(b))\n",
    "print(b.isdisjoint(a))\n",
    "print(a.intersection(b))\n",
    "print(b.union(a))\n",
    "print(a.difference(b))\n",
    "print(a.difference(b))\n",
    "#a.discard(1)\n",
    "#print(a)\n",
    "b.symmetric_difference(a)"
   ]
  },
  {
   "cell_type": "code",
   "execution_count": 5,
   "id": "884863be",
   "metadata": {},
   "outputs": [
    {
     "data": {
      "text/plain": [
       "{1: 1, -3: 9, 0: 0, 8: 64, -4: 16, 6: 36}"
      ]
     },
     "execution_count": 5,
     "metadata": {},
     "output_type": "execute_result"
    }
   ],
   "source": [
    "myList = [ 1, -3, 0, 8, -4, 6 ]\n",
    "myList1 = [i**2 for i in myList]\n",
    "dict(zip(myList,myList1))"
   ]
  },
  {
   "cell_type": "code",
   "execution_count": 7,
   "id": "c8430f34",
   "metadata": {},
   "outputs": [
    {
     "name": "stdout",
     "output_type": "stream",
     "text": [
      "Enter the name :- madam\n",
      "ENtered name is pallindrome\n"
     ]
    }
   ],
   "source": [
    "# Create a function to find if word is in palindrome\n",
    "\n",
    "def pallindrom_chk():\n",
    "    name=input(\"Enter the name :- \")\n",
    "    if name[::-1]==name:\n",
    "        print(\"Entered name is pallindrome\")\n",
    "    else:\n",
    "        print(\"Not a pallindrome\")\n",
    "        \n",
    "pallindrom_chk()"
   ]
  },
  {
   "cell_type": "code",
   "execution_count": 8,
   "id": "532b07d1",
   "metadata": {},
   "outputs": [
    {
     "name": "stdout",
     "output_type": "stream",
     "text": [
      "Enter the number :- 2\n",
      "Entered number is Even\n"
     ]
    }
   ],
   "source": [
    "# Create a function to find if number is even or odd\n",
    "\n",
    "def eben_odd_chk():\n",
    "    num1=int(input(\"Enter the number :- \"))\n",
    "    if num1%2==0:\n",
    "        print(\"Entered number is Even\")\n",
    "    else:\n",
    "        print(\"Entered number is Odd\")\n",
    "        \n",
    "eben_odd_chk()"
   ]
  },
  {
   "cell_type": "code",
   "execution_count": 20,
   "id": "a3de02a7",
   "metadata": {},
   "outputs": [
    {
     "name": "stdout",
     "output_type": "stream",
     "text": [
      "Enter the mobile number :- 3.3.3.3.3.\n",
      "Entered number is not mobile number\n"
     ]
    }
   ],
   "source": [
    "# Create a function to find if given mobile number is valid??\n",
    "\n",
    "def mobile_chk():\n",
    "    num1=input(\"Enter the mobile number :- \")\n",
    "    if len(num1.strip())==10 and num1.isdigit()==True:\n",
    "        print(\"Entered number is valid mobile number\")\n",
    "    else:\n",
    "        print(\"Entered number is not mobile number\")\n",
    "        \n",
    "mobile_chk()"
   ]
  },
  {
   "cell_type": "code",
   "execution_count": 32,
   "id": "1b4538a8",
   "metadata": {},
   "outputs": [
    {
     "name": "stdout",
     "output_type": "stream",
     "text": [
      "Enter the number to be checked :-2\n",
      "Even\n"
     ]
    }
   ],
   "source": [
    "even_odd_chk=(lambda x:\"Even\" if x%2==0 else 'Odd')\n",
    "x=int(input(\"Enter the number to be checked :-\"))\n",
    "\n",
    "print(even_odd_chk(x))"
   ]
  },
  {
   "cell_type": "code",
   "execution_count": 39,
   "id": "7d7737a5",
   "metadata": {},
   "outputs": [
    {
     "data": {
      "text/plain": [
       "[1, 8, 6]"
      ]
     },
     "execution_count": 39,
     "metadata": {},
     "output_type": "execute_result"
    }
   ],
   "source": [
    "#Positive numbers \n",
    "def positive_numbers():\n",
    "    myList = [ 1, -3, 0, 8, -4, 6 ]\n",
    "    myList1=[i for i in myList if i>0]\n",
    "    return myList1\n",
    "positive_numbers()"
   ]
  },
  {
   "cell_type": "code",
   "execution_count": 40,
   "id": "5b17b85e",
   "metadata": {},
   "outputs": [
    {
     "data": {
      "text/plain": [
       "[1, 9, 0, 64, 16, 36]"
      ]
     },
     "execution_count": 40,
     "metadata": {},
     "output_type": "execute_result"
    }
   ],
   "source": [
    "#Square of numbers \n",
    "\n",
    "def square_numbers():\n",
    "    myList = [ 1, -3, 0, 8, -4, 6 ]\n",
    "    myList1=[i**2 for i in myList]\n",
    "    return myList1\n",
    "square_numbers()"
   ]
  },
  {
   "cell_type": "code",
   "execution_count": 41,
   "id": "8a9e637e",
   "metadata": {},
   "outputs": [
    {
     "data": {
      "text/plain": [
       "[1.0, 9, 0.0, 2.8284271247461903, 16, 2.449489742783178]"
      ]
     },
     "execution_count": 41,
     "metadata": {},
     "output_type": "execute_result"
    }
   ],
   "source": [
    "#Square & squareroot of numbers \n",
    "\n",
    "def square__root_numbers():\n",
    "    myList = [ 1, -3, 0, 8, -4, 6 ]\n",
    "    myList1=[i**2 if i<0 else i**0.5 for i in myList]\n",
    "    return myList1\n",
    "square__root_numbers()"
   ]
  },
  {
   "cell_type": "code",
   "execution_count": 45,
   "id": "32b300d5",
   "metadata": {},
   "outputs": [
    {
     "name": "stdout",
     "output_type": "stream",
     "text": [
      "True\n",
      "True\n",
      "False\n"
     ]
    }
   ],
   "source": [
    "# From the 2 sets below find out which one is subset and whoich is superset\n",
    "\n",
    "setA = {\"@\", \"&\", \"2\", 10, \"#\"}\n",
    "setB = {\"#\", \"&\"}\n",
    "\n",
    "print(setA.issuperset(setB))\n",
    "print(setB.issubset(setA))\n",
    "print(setA.issubset(setB))"
   ]
  },
  {
   "cell_type": "code",
   "execution_count": 46,
   "id": "2d209869",
   "metadata": {},
   "outputs": [
    {
     "name": "stdout",
     "output_type": "stream",
     "text": [
      "True\n"
     ]
    }
   ],
   "source": [
    "myString = \"   pool cool patch bool tool catch cook book batch took   \"\n",
    "print('catch' in myString.strip())"
   ]
  },
  {
   "cell_type": "code",
   "execution_count": 49,
   "id": "e752f903",
   "metadata": {},
   "outputs": [
    {
     "name": "stdout",
     "output_type": "stream",
     "text": [
      "['pool', 'cool', 'patch', 'bool', 'tool', 'catch', 'cook', 'book', 'batch', 'took']\n"
     ]
    },
    {
     "data": {
      "text/plain": [
       "['cool', 'catch', 'cook']"
      ]
     },
     "execution_count": 49,
     "metadata": {},
     "output_type": "execute_result"
    }
   ],
   "source": [
    "myString = \"   pool cool patch bool tool catch cook book batch took   \"\n",
    "#print(myString.strip().split())\n",
    "[i for i in (myString.strip().split()) if i.startswith('c')]"
   ]
  },
  {
   "cell_type": "code",
   "execution_count": 10,
   "id": "f5142fb2",
   "metadata": {},
   "outputs": [
    {
     "name": "stdout",
     "output_type": "stream",
     "text": [
      "['1', '2', '3', '4', '5', '6', '7', '8', '9', '10', '11']\n"
     ]
    }
   ],
   "source": [
    "# extract all the numbers\n",
    "import re\n",
    "numbers = \"1 2 3 4 5 6 7 8 9 10 11 four14 one two three four five six, seven eight nine ten eleven T12\"\n",
    "res1=re.findall(r\"\\b\\d{1,}\\b\",numbers)\n",
    "print(res1)\n"
   ]
  },
  {
   "cell_type": "code",
   "execution_count": 3,
   "id": "9955912d",
   "metadata": {},
   "outputs": [
    {
     "name": "stdout",
     "output_type": "stream",
     "text": [
      "<function func1.<locals>.func2 at 0x0000019E1A9BC5E0>\n",
      "<function func1.<locals>.func2 at 0x0000019E1A9BC5E0>\n"
     ]
    }
   ],
   "source": [
    "def func1(x):\n",
    "    def func2(y):\n",
    "        return x+y\n",
    "    return func2\n",
    "\n",
    "print(func1(15))\n",
    "print(func1(15))\n",
    "# add1=func1(15)\n",
    "# print(add1(10))"
   ]
  },
  {
   "cell_type": "code",
   "execution_count": 3,
   "id": "10133319",
   "metadata": {},
   "outputs": [
    {
     "name": "stdout",
     "output_type": "stream",
     "text": [
      "Amit\n"
     ]
    }
   ],
   "source": [
    "class A:\n",
    "    def __init__(self,name1):\n",
    "        self.name=name1\n",
    "        \n",
    "    def get_name(self):\n",
    "        return self.name\n",
    "\n",
    "a1=A('Amit')\n",
    "print(a1.get_name())"
   ]
  },
  {
   "cell_type": "code",
   "execution_count": null,
   "id": "1d892c0e",
   "metadata": {},
   "outputs": [],
   "source": []
  }
 ],
 "metadata": {
  "kernelspec": {
   "display_name": "Python 3 (ipykernel)",
   "language": "python",
   "name": "python3"
  },
  "language_info": {
   "codemirror_mode": {
    "name": "ipython",
    "version": 3
   },
   "file_extension": ".py",
   "mimetype": "text/x-python",
   "name": "python",
   "nbconvert_exporter": "python",
   "pygments_lexer": "ipython3",
   "version": "3.10.9"
  }
 },
 "nbformat": 4,
 "nbformat_minor": 5
}
