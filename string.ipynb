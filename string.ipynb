{
 "cells": [
  {
   "cell_type": "code",
   "execution_count": 1,
   "id": "141b4e5c",
   "metadata": {},
   "outputs": [
    {
     "name": "stdout",
     "output_type": "stream",
     "text": [
      "kya kar rahe ho bey\n"
     ]
    }
   ],
   "source": [
    "a=\"kya kar rahe ho bey\"\n",
    "print(a)"
   ]
  },
  {
   "cell_type": "code",
   "execution_count": 3,
   "id": "b310201a",
   "metadata": {},
   "outputs": [
    {
     "name": "stdout",
     "output_type": "stream",
     "text": [
      "19\n"
     ]
    }
   ],
   "source": [
    "#length\n",
    "print(len(a))"
   ]
  },
  {
   "cell_type": "code",
   "execution_count": 10,
   "id": "46048551",
   "metadata": {},
   "outputs": [
    {
     "name": "stdout",
     "output_type": "stream",
     "text": [
      "y\n",
      "k\n"
     ]
    }
   ],
   "source": [
    "#indexing\n",
    "print(a[len(a)-1]) #L-R between 0 and  [len(a)-1] after this it will give error as index out of range\n",
    "print(a[-len(a)]) #R-L between -1 to -len(a) after this it will give error as index out of range"
   ]
  },
  {
   "cell_type": "code",
   "execution_count": 32,
   "id": "9e3cfde0",
   "metadata": {},
   "outputs": [
    {
     "name": "stdout",
     "output_type": "stream",
     "text": [
      "kya kar rahe ho bey\n",
      "kya kar rahe ho be\n"
     ]
    }
   ],
   "source": [
    "#slicing with defult step as 1\n",
    "\n",
    "\n",
    "print(a[0:len(a)]) #L-R it will not give error aa it gives in index beyond...end is excluded\n",
    "print(a[-(len(a)):-1])  #R-L it will not give error aa it gives in index beyond...end is excluded"
   ]
  },
  {
   "cell_type": "code",
   "execution_count": 35,
   "id": "9b312f31",
   "metadata": {},
   "outputs": [
    {
     "name": "stdout",
     "output_type": "stream",
     "text": [
      "Helo world\n"
     ]
    }
   ],
   "source": [
    "#concatenation\n",
    "\n",
    "a=\"Helo\"\n",
    "b=\"world\"\n",
    "print(a+\" \"+b)"
   ]
  },
  {
   "cell_type": "code",
   "execution_count": 36,
   "id": "50f954c5",
   "metadata": {},
   "outputs": [
    {
     "name": "stdout",
     "output_type": "stream",
     "text": [
      "HeloHeloHeloHeloHelo\n"
     ]
    }
   ],
   "source": [
    "#Repitition\n",
    "\n",
    "a=\"Helo\"\n",
    "b=5\n",
    "print(a*5)"
   ]
  },
  {
   "cell_type": "code",
   "execution_count": 40,
   "id": "f76e0605",
   "metadata": {},
   "outputs": [
    {
     "name": "stdout",
     "output_type": "stream",
     "text": [
      "True\n"
     ]
    }
   ],
   "source": [
    "#Membership\n",
    "\n",
    "a=\"kya kar rahe ho bey\"\n",
    "print('kya ' in a)"
   ]
  },
  {
   "cell_type": "code",
   "execution_count": 41,
   "id": "6eb3341a",
   "metadata": {},
   "outputs": [
    {
     "ename": "TypeError",
     "evalue": "'str' object does not support item assignment",
     "output_type": "error",
     "traceback": [
      "\u001b[1;31m---------------------------------------------------------------------------\u001b[0m",
      "\u001b[1;31mTypeError\u001b[0m                                 Traceback (most recent call last)",
      "Cell \u001b[1;32mIn[41], line 3\u001b[0m\n\u001b[0;32m      1\u001b[0m \u001b[38;5;66;03m#immutable\u001b[39;00m\n\u001b[0;32m      2\u001b[0m a\u001b[38;5;241m=\u001b[39m\u001b[38;5;124m\"\u001b[39m\u001b[38;5;124mhello\u001b[39m\u001b[38;5;124m\"\u001b[39m\n\u001b[1;32m----> 3\u001b[0m a[\u001b[38;5;241m0\u001b[39m]\u001b[38;5;241m=\u001b[39m\u001b[38;5;124m\"\u001b[39m\u001b[38;5;124mx\u001b[39m\u001b[38;5;124m\"\u001b[39m\n",
      "\u001b[1;31mTypeError\u001b[0m: 'str' object does not support item assignment"
     ]
    }
   ],
   "source": [
    "#immutable\n",
    "a=\"hello\"\n",
    "a[0]=\"x\"\n"
   ]
  },
  {
   "cell_type": "code",
   "execution_count": 43,
   "id": "0ca23374",
   "metadata": {},
   "outputs": [
    {
     "name": "stdout",
     "output_type": "stream",
     "text": [
      "it's his pen\n"
     ]
    }
   ],
   "source": [
    "#case when double quote would be required\n",
    "a=\"it\\'s his pen\"\n",
    "#a='it\\'s his pen' # escape character can also be used\n",
    "print(a)"
   ]
  },
  {
   "cell_type": "code",
   "execution_count": 49,
   "id": "f2172dbc",
   "metadata": {},
   "outputs": [
    {
     "name": "stdout",
     "output_type": "stream",
     "text": [
      "hello\r",
      "world\n",
      "world\r",
      "hel\n"
     ]
    }
   ],
   "source": [
    "#carraige return :- \\r\n",
    "\n",
    "print('hello\\rworld') # if rhs>= lhs then rhs\n",
    "\n",
    "print('world\\rhel') # if rhs< lhs then (rhs+characters from lhs to make count of rhs == lhs)"
   ]
  },
  {
   "cell_type": "markdown",
   "id": "4ca57c98",
   "metadata": {},
   "source": [
    "# Sring Methods"
   ]
  },
  {
   "cell_type": "code",
   "execution_count": 54,
   "id": "6e9ece2d",
   "metadata": {},
   "outputs": [
    {
     "name": "stdout",
     "output_type": "stream",
     "text": [
      "Hello world\n",
      "Hello World\n",
      "HELLO WORLD\n",
      "hello world\n"
     ]
    }
   ],
   "source": [
    "a=\"hello world\"\n",
    "print(a.capitalize()) # capitalize the first letter of the sentence and lower all the remaining letters\n",
    "print(a.title()) # capitalize the first letter of each word in the sentence\n",
    "print(a.upper()) # capitalize all the letter of each word in the sentence\n",
    "print(a.lower()) # lower all the letter of each word in the sentence"
   ]
  },
  {
   "cell_type": "code",
   "execution_count": 57,
   "id": "7b372e62",
   "metadata": {},
   "outputs": [
    {
     "name": "stdout",
     "output_type": "stream",
     "text": [
      "True\n",
      "True\n"
     ]
    }
   ],
   "source": [
    "print(a.startswith('hel'))\n",
    "print(a.endswith('ld'))\n"
   ]
  },
  {
   "cell_type": "code",
   "execution_count": 66,
   "id": "e4adca90",
   "metadata": {},
   "outputs": [
    {
     "name": "stdout",
     "output_type": "stream",
     "text": [
      "True\n",
      "True\n",
      "False\n",
      "----------------------------------------------------------------------------------------------------\n",
      "True\n",
      "False\n",
      "True\n",
      "----------------------------------------------------------------------------------------------------\n",
      "False\n",
      "False\n",
      "False\n",
      "----------------------------------------------------------------------------------------------------\n",
      "True\n",
      "False\n",
      "False\n"
     ]
    }
   ],
   "source": [
    "a='hello'\n",
    "b='1234'\n",
    "c='abc_1234'\n",
    "d='abc1234'\n",
    "\n",
    "print(a.isalnum()) #true\n",
    "print(a.isalpha()) #true\n",
    "print(a.isnumeric()) #true\n",
    "print('--'*50)\n",
    "print(b.isalnum()) #true\n",
    "print(b.isalpha()) #false\n",
    "print(b.isnumeric()) #true\n",
    "print('--'*50)\n",
    "print(c.isalnum()) #false\n",
    "print(c.isalpha()) #false\n",
    "print(c.isnumeric()) #false\n",
    "print('--'*50)\n",
    "print(d.isalnum()) #true\n",
    "print(d.isalpha()) #false\n",
    "print(d.isnumeric()) #false"
   ]
  },
  {
   "cell_type": "code",
   "execution_count": 67,
   "id": "f9a487af",
   "metadata": {},
   "outputs": [
    {
     "name": "stdout",
     "output_type": "stream",
     "text": [
      "helo\n"
     ]
    }
   ],
   "source": [
    "a=' helo  '\n",
    "print(a.strip())"
   ]
  },
  {
   "cell_type": "code",
   "execution_count": 71,
   "id": "988fedf1",
   "metadata": {},
   "outputs": [
    {
     "name": "stdout",
     "output_type": "stream",
     "text": [
      "2\n"
     ]
    }
   ],
   "source": [
    "a=' hello  '\n",
    "print(a.count('l'))"
   ]
  },
  {
   "cell_type": "code",
   "execution_count": 73,
   "id": "beae5fef",
   "metadata": {},
   "outputs": [
    {
     "name": "stdout",
     "output_type": "stream",
     "text": [
      "3\n"
     ]
    }
   ],
   "source": [
    "a=' hello  '\n",
    "print(a.find('l'))"
   ]
  },
  {
   "cell_type": "code",
   "execution_count": 75,
   "id": "32704072",
   "metadata": {},
   "outputs": [
    {
     "name": "stdout",
     "output_type": "stream",
     "text": [
      "3\n"
     ]
    }
   ],
   "source": [
    "a=' hello  '\n",
    "print(a.index('l'))"
   ]
  },
  {
   "cell_type": "code",
   "execution_count": 78,
   "id": "41dd4808",
   "metadata": {},
   "outputs": [
    {
     "name": "stdout",
     "output_type": "stream",
     "text": [
      "heppplllo\n"
     ]
    }
   ],
   "source": [
    "a='hellllllo'\n",
    "print(a.replace('l','p',3))"
   ]
  },
  {
   "cell_type": "code",
   "execution_count": 81,
   "id": "18bd3fbd",
   "metadata": {},
   "outputs": [
    {
     "name": "stdout",
     "output_type": "stream",
     "text": [
      "Hi, my name is Amit and comapny name is TCS\n"
     ]
    }
   ],
   "source": [
    "##creating template\n",
    "\n",
    "name='Amit'\n",
    "company='TCS'\n",
    "\n",
    "print(f\"Hi, my name is {name} and comapny name is {company}\")"
   ]
  },
  {
   "cell_type": "code",
   "execution_count": 85,
   "id": "b8bb212d",
   "metadata": {},
   "outputs": [
    {
     "name": "stdout",
     "output_type": "stream",
     "text": [
      "000000Amit\n"
     ]
    }
   ],
   "source": [
    "##To append zero :- it will append 6 zeros as 4 is occupied by AmMit\n",
    "\n",
    "name='Amit'\n",
    "print(name.zfill(10))"
   ]
  },
  {
   "cell_type": "code",
   "execution_count": 88,
   "id": "0809eab1",
   "metadata": {},
   "outputs": [
    {
     "name": "stdout",
     "output_type": "stream",
     "text": [
      "False\n"
     ]
    }
   ],
   "source": [
    "name=\" \"\n",
    "print(name.isspace())"
   ]
  },
  {
   "cell_type": "code",
   "execution_count": 89,
   "id": "683be539",
   "metadata": {},
   "outputs": [
    {
     "name": "stdout",
     "output_type": "stream",
     "text": [
      "('amitk4413', '@', 'gmail.com')\n"
     ]
    }
   ],
   "source": [
    "mail=\"amitk4413@gmail.com\"\n",
    "print(mail.partition('@'))"
   ]
  },
  {
   "cell_type": "code",
   "execution_count": 90,
   "id": "5721400f",
   "metadata": {},
   "outputs": [
    {
     "name": "stdout",
     "output_type": "stream",
     "text": [
      "['amitk4413', 'gmail.com']\n"
     ]
    }
   ],
   "source": [
    "mail=\"amitk4413@gmail.com\"\n",
    "print(mail.split('@'))"
   ]
  },
  {
   "cell_type": "code",
   "execution_count": 95,
   "id": "c8dc8dfc",
   "metadata": {},
   "outputs": [
    {
     "name": "stdout",
     "output_type": "stream",
     "text": [
      "{'3', 1, '2', 'Amit'}\n"
     ]
    }
   ],
   "source": [
    "a={1,'Amit','2','3'} #set is not ordered\n",
    "print(a)\n"
   ]
  },
  {
   "cell_type": "code",
   "execution_count": 97,
   "id": "248c9e57",
   "metadata": {},
   "outputs": [
    {
     "name": "stdout",
     "output_type": "stream",
     "text": [
      "['k', 'y', 'a', ' ', 'k', 'a', 'r', ' ', 'r', 'a', 'h', 'e', ' ', 'h', 'o', ' ', 'b', 'e', 'y']\n"
     ]
    }
   ],
   "source": [
    "#typecast\n",
    "\n",
    "a=\"kya kar rahe ho bey\"\n",
    "print(list(a))"
   ]
  },
  {
   "cell_type": "code",
   "execution_count": 99,
   "id": "c1993c02",
   "metadata": {},
   "outputs": [
    {
     "data": {
      "text/plain": [
       "['amitk4413', 'gmail', 'com']"
      ]
     },
     "execution_count": 99,
     "metadata": {},
     "output_type": "execute_result"
    }
   ],
   "source": [
    "#split\n",
    "\n",
    "a=\"amitk4413@gmail@com\"\n",
    "a.split('@')"
   ]
  },
  {
   "cell_type": "code",
   "execution_count": null,
   "id": "88b56bba",
   "metadata": {},
   "outputs": [],
   "source": []
  }
 ],
 "metadata": {
  "kernelspec": {
   "display_name": "Python 3 (ipykernel)",
   "language": "python",
   "name": "python3"
  },
  "language_info": {
   "codemirror_mode": {
    "name": "ipython",
    "version": 3
   },
   "file_extension": ".py",
   "mimetype": "text/x-python",
   "name": "python",
   "nbconvert_exporter": "python",
   "pygments_lexer": "ipython3",
   "version": "3.10.9"
  }
 },
 "nbformat": 4,
 "nbformat_minor": 5
}
